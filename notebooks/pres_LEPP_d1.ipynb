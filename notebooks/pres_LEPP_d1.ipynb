{
  "nbformat": 4,
  "nbformat_minor": 0,
  "metadata": {
    "colab": {
      "provenance": []
    },
    "kernelspec": {
      "name": "python3",
      "display_name": "Python 3"
    },
    "language_info": {
      "name": "python"
    }
  },
  "cells": [
    {
      "cell_type": "code",
      "source": [
        "!pip install -r \"/content/drive/MyDrive/Colab Notebooks/LEVX_1km/requirements.txt\""
      ],
      "metadata": {
        "id": "EdGOq9bNcIsN"
      },
      "execution_count": null,
      "outputs": []
    },
    {
      "cell_type": "code",
      "source": [
        "!pip install lazypredict"
      ],
      "metadata": {
        "id": "Z5pVd9re32fK"
      },
      "execution_count": null,
      "outputs": []
    },
    {
      "cell_type": "code",
      "source": [
        "import plotly.express as px\n",
        "import pandas as pd\n",
        "import numpy as np\n",
        "\n",
        "\n",
        "coor = pd.read_csv(\"/content/drive/MyDrive/Colab Notebooks/LEPP/input_files/distan_lat42.77lon-1.647p3R12Km.csv\")\n",
        "px.set_mapbox_access_token(\"pk.eyJ1IjoiZ3JhbmFudHVpbiIsImEiOiJja3B4dGU4OTkwMTFmMm9ycnNhMjJvaGJqIn0.VWzx_PkD9A5cSUVsn_ijCA\")\n",
        "px.scatter_mapbox(coor, hover_data=['distance'],lat='lat', lon='lon',color='distance', title=\"Nearest points\",\n",
        "                           color_continuous_scale=px.colors.cyclical.IceFire,)"
      ],
      "metadata": {
        "id": "L5ZGyKtdklV4",
        "colab": {
          "base_uri": "https://localhost:8080/",
          "height": 542
        },
        "outputId": "db569066-4aa6-47b1-e93d-76cea4fc652b"
      },
      "execution_count": 1,
      "outputs": [
        {
          "output_type": "display_data",
          "data": {
            "text/html": [
              "<html>\n",
              "<head><meta charset=\"utf-8\" /></head>\n",
              "<body>\n",
              "    <div>            <script src=\"https://cdnjs.cloudflare.com/ajax/libs/mathjax/2.7.5/MathJax.js?config=TeX-AMS-MML_SVG\"></script><script type=\"text/javascript\">if (window.MathJax && window.MathJax.Hub && window.MathJax.Hub.Config) {window.MathJax.Hub.Config({SVG: {font: \"STIX-Web\"}});}</script>                <script type=\"text/javascript\">window.PlotlyConfig = {MathJaxConfig: 'local'};</script>\n",
              "        <script src=\"https://cdn.plot.ly/plotly-2.18.2.min.js\"></script>                <div id=\"bbe4f748-557e-4c98-9c12-558dfb7cd56c\" class=\"plotly-graph-div\" style=\"height:525px; width:100%;\"></div>            <script type=\"text/javascript\">                                    window.PLOTLYENV=window.PLOTLYENV || {};                                    if (document.getElementById(\"bbe4f748-557e-4c98-9c12-558dfb7cd56c\")) {                    Plotly.newPlot(                        \"bbe4f748-557e-4c98-9c12-558dfb7cd56c\",                        [{\"customdata\":[[4.81],[7.44],[11.73]],\"hovertemplate\":\"lat=%{lat}<br>lon=%{lon}<br>distance=%{marker.color}<extra></extra>\",\"lat\":[42.813004296871526,42.70627064445584,42.79698251897537],\"legendgroup\":\"\",\"lon\":[-1.653423261789812,-1.6751004368802438,-1.5079654643891909],\"marker\":{\"color\":[4.81,7.44,11.73],\"coloraxis\":\"coloraxis\"},\"mode\":\"markers\",\"name\":\"\",\"showlegend\":false,\"subplot\":\"mapbox\",\"type\":\"scattermapbox\"}],                        {\"template\":{\"data\":{\"histogram2dcontour\":[{\"type\":\"histogram2dcontour\",\"colorbar\":{\"outlinewidth\":0,\"ticks\":\"\"},\"colorscale\":[[0.0,\"#0d0887\"],[0.1111111111111111,\"#46039f\"],[0.2222222222222222,\"#7201a8\"],[0.3333333333333333,\"#9c179e\"],[0.4444444444444444,\"#bd3786\"],[0.5555555555555556,\"#d8576b\"],[0.6666666666666666,\"#ed7953\"],[0.7777777777777778,\"#fb9f3a\"],[0.8888888888888888,\"#fdca26\"],[1.0,\"#f0f921\"]]}],\"choropleth\":[{\"type\":\"choropleth\",\"colorbar\":{\"outlinewidth\":0,\"ticks\":\"\"}}],\"histogram2d\":[{\"type\":\"histogram2d\",\"colorbar\":{\"outlinewidth\":0,\"ticks\":\"\"},\"colorscale\":[[0.0,\"#0d0887\"],[0.1111111111111111,\"#46039f\"],[0.2222222222222222,\"#7201a8\"],[0.3333333333333333,\"#9c179e\"],[0.4444444444444444,\"#bd3786\"],[0.5555555555555556,\"#d8576b\"],[0.6666666666666666,\"#ed7953\"],[0.7777777777777778,\"#fb9f3a\"],[0.8888888888888888,\"#fdca26\"],[1.0,\"#f0f921\"]]}],\"heatmap\":[{\"type\":\"heatmap\",\"colorbar\":{\"outlinewidth\":0,\"ticks\":\"\"},\"colorscale\":[[0.0,\"#0d0887\"],[0.1111111111111111,\"#46039f\"],[0.2222222222222222,\"#7201a8\"],[0.3333333333333333,\"#9c179e\"],[0.4444444444444444,\"#bd3786\"],[0.5555555555555556,\"#d8576b\"],[0.6666666666666666,\"#ed7953\"],[0.7777777777777778,\"#fb9f3a\"],[0.8888888888888888,\"#fdca26\"],[1.0,\"#f0f921\"]]}],\"heatmapgl\":[{\"type\":\"heatmapgl\",\"colorbar\":{\"outlinewidth\":0,\"ticks\":\"\"},\"colorscale\":[[0.0,\"#0d0887\"],[0.1111111111111111,\"#46039f\"],[0.2222222222222222,\"#7201a8\"],[0.3333333333333333,\"#9c179e\"],[0.4444444444444444,\"#bd3786\"],[0.5555555555555556,\"#d8576b\"],[0.6666666666666666,\"#ed7953\"],[0.7777777777777778,\"#fb9f3a\"],[0.8888888888888888,\"#fdca26\"],[1.0,\"#f0f921\"]]}],\"contourcarpet\":[{\"type\":\"contourcarpet\",\"colorbar\":{\"outlinewidth\":0,\"ticks\":\"\"}}],\"contour\":[{\"type\":\"contour\",\"colorbar\":{\"outlinewidth\":0,\"ticks\":\"\"},\"colorscale\":[[0.0,\"#0d0887\"],[0.1111111111111111,\"#46039f\"],[0.2222222222222222,\"#7201a8\"],[0.3333333333333333,\"#9c179e\"],[0.4444444444444444,\"#bd3786\"],[0.5555555555555556,\"#d8576b\"],[0.6666666666666666,\"#ed7953\"],[0.7777777777777778,\"#fb9f3a\"],[0.8888888888888888,\"#fdca26\"],[1.0,\"#f0f921\"]]}],\"surface\":[{\"type\":\"surface\",\"colorbar\":{\"outlinewidth\":0,\"ticks\":\"\"},\"colorscale\":[[0.0,\"#0d0887\"],[0.1111111111111111,\"#46039f\"],[0.2222222222222222,\"#7201a8\"],[0.3333333333333333,\"#9c179e\"],[0.4444444444444444,\"#bd3786\"],[0.5555555555555556,\"#d8576b\"],[0.6666666666666666,\"#ed7953\"],[0.7777777777777778,\"#fb9f3a\"],[0.8888888888888888,\"#fdca26\"],[1.0,\"#f0f921\"]]}],\"mesh3d\":[{\"type\":\"mesh3d\",\"colorbar\":{\"outlinewidth\":0,\"ticks\":\"\"}}],\"scatter\":[{\"fillpattern\":{\"fillmode\":\"overlay\",\"size\":10,\"solidity\":0.2},\"type\":\"scatter\"}],\"parcoords\":[{\"type\":\"parcoords\",\"line\":{\"colorbar\":{\"outlinewidth\":0,\"ticks\":\"\"}}}],\"scatterpolargl\":[{\"type\":\"scatterpolargl\",\"marker\":{\"colorbar\":{\"outlinewidth\":0,\"ticks\":\"\"}}}],\"bar\":[{\"error_x\":{\"color\":\"#2a3f5f\"},\"error_y\":{\"color\":\"#2a3f5f\"},\"marker\":{\"line\":{\"color\":\"#E5ECF6\",\"width\":0.5},\"pattern\":{\"fillmode\":\"overlay\",\"size\":10,\"solidity\":0.2}},\"type\":\"bar\"}],\"scattergeo\":[{\"type\":\"scattergeo\",\"marker\":{\"colorbar\":{\"outlinewidth\":0,\"ticks\":\"\"}}}],\"scatterpolar\":[{\"type\":\"scatterpolar\",\"marker\":{\"colorbar\":{\"outlinewidth\":0,\"ticks\":\"\"}}}],\"histogram\":[{\"marker\":{\"pattern\":{\"fillmode\":\"overlay\",\"size\":10,\"solidity\":0.2}},\"type\":\"histogram\"}],\"scattergl\":[{\"type\":\"scattergl\",\"marker\":{\"colorbar\":{\"outlinewidth\":0,\"ticks\":\"\"}}}],\"scatter3d\":[{\"type\":\"scatter3d\",\"line\":{\"colorbar\":{\"outlinewidth\":0,\"ticks\":\"\"}},\"marker\":{\"colorbar\":{\"outlinewidth\":0,\"ticks\":\"\"}}}],\"scattermapbox\":[{\"type\":\"scattermapbox\",\"marker\":{\"colorbar\":{\"outlinewidth\":0,\"ticks\":\"\"}}}],\"scatterternary\":[{\"type\":\"scatterternary\",\"marker\":{\"colorbar\":{\"outlinewidth\":0,\"ticks\":\"\"}}}],\"scattercarpet\":[{\"type\":\"scattercarpet\",\"marker\":{\"colorbar\":{\"outlinewidth\":0,\"ticks\":\"\"}}}],\"carpet\":[{\"aaxis\":{\"endlinecolor\":\"#2a3f5f\",\"gridcolor\":\"white\",\"linecolor\":\"white\",\"minorgridcolor\":\"white\",\"startlinecolor\":\"#2a3f5f\"},\"baxis\":{\"endlinecolor\":\"#2a3f5f\",\"gridcolor\":\"white\",\"linecolor\":\"white\",\"minorgridcolor\":\"white\",\"startlinecolor\":\"#2a3f5f\"},\"type\":\"carpet\"}],\"table\":[{\"cells\":{\"fill\":{\"color\":\"#EBF0F8\"},\"line\":{\"color\":\"white\"}},\"header\":{\"fill\":{\"color\":\"#C8D4E3\"},\"line\":{\"color\":\"white\"}},\"type\":\"table\"}],\"barpolar\":[{\"marker\":{\"line\":{\"color\":\"#E5ECF6\",\"width\":0.5},\"pattern\":{\"fillmode\":\"overlay\",\"size\":10,\"solidity\":0.2}},\"type\":\"barpolar\"}],\"pie\":[{\"automargin\":true,\"type\":\"pie\"}]},\"layout\":{\"autotypenumbers\":\"strict\",\"colorway\":[\"#636efa\",\"#EF553B\",\"#00cc96\",\"#ab63fa\",\"#FFA15A\",\"#19d3f3\",\"#FF6692\",\"#B6E880\",\"#FF97FF\",\"#FECB52\"],\"font\":{\"color\":\"#2a3f5f\"},\"hovermode\":\"closest\",\"hoverlabel\":{\"align\":\"left\"},\"paper_bgcolor\":\"white\",\"plot_bgcolor\":\"#E5ECF6\",\"polar\":{\"bgcolor\":\"#E5ECF6\",\"angularaxis\":{\"gridcolor\":\"white\",\"linecolor\":\"white\",\"ticks\":\"\"},\"radialaxis\":{\"gridcolor\":\"white\",\"linecolor\":\"white\",\"ticks\":\"\"}},\"ternary\":{\"bgcolor\":\"#E5ECF6\",\"aaxis\":{\"gridcolor\":\"white\",\"linecolor\":\"white\",\"ticks\":\"\"},\"baxis\":{\"gridcolor\":\"white\",\"linecolor\":\"white\",\"ticks\":\"\"},\"caxis\":{\"gridcolor\":\"white\",\"linecolor\":\"white\",\"ticks\":\"\"}},\"coloraxis\":{\"colorbar\":{\"outlinewidth\":0,\"ticks\":\"\"}},\"colorscale\":{\"sequential\":[[0.0,\"#0d0887\"],[0.1111111111111111,\"#46039f\"],[0.2222222222222222,\"#7201a8\"],[0.3333333333333333,\"#9c179e\"],[0.4444444444444444,\"#bd3786\"],[0.5555555555555556,\"#d8576b\"],[0.6666666666666666,\"#ed7953\"],[0.7777777777777778,\"#fb9f3a\"],[0.8888888888888888,\"#fdca26\"],[1.0,\"#f0f921\"]],\"sequentialminus\":[[0.0,\"#0d0887\"],[0.1111111111111111,\"#46039f\"],[0.2222222222222222,\"#7201a8\"],[0.3333333333333333,\"#9c179e\"],[0.4444444444444444,\"#bd3786\"],[0.5555555555555556,\"#d8576b\"],[0.6666666666666666,\"#ed7953\"],[0.7777777777777778,\"#fb9f3a\"],[0.8888888888888888,\"#fdca26\"],[1.0,\"#f0f921\"]],\"diverging\":[[0,\"#8e0152\"],[0.1,\"#c51b7d\"],[0.2,\"#de77ae\"],[0.3,\"#f1b6da\"],[0.4,\"#fde0ef\"],[0.5,\"#f7f7f7\"],[0.6,\"#e6f5d0\"],[0.7,\"#b8e186\"],[0.8,\"#7fbc41\"],[0.9,\"#4d9221\"],[1,\"#276419\"]]},\"xaxis\":{\"gridcolor\":\"white\",\"linecolor\":\"white\",\"ticks\":\"\",\"title\":{\"standoff\":15},\"zerolinecolor\":\"white\",\"automargin\":true,\"zerolinewidth\":2},\"yaxis\":{\"gridcolor\":\"white\",\"linecolor\":\"white\",\"ticks\":\"\",\"title\":{\"standoff\":15},\"zerolinecolor\":\"white\",\"automargin\":true,\"zerolinewidth\":2},\"scene\":{\"xaxis\":{\"backgroundcolor\":\"#E5ECF6\",\"gridcolor\":\"white\",\"linecolor\":\"white\",\"showbackground\":true,\"ticks\":\"\",\"zerolinecolor\":\"white\",\"gridwidth\":2},\"yaxis\":{\"backgroundcolor\":\"#E5ECF6\",\"gridcolor\":\"white\",\"linecolor\":\"white\",\"showbackground\":true,\"ticks\":\"\",\"zerolinecolor\":\"white\",\"gridwidth\":2},\"zaxis\":{\"backgroundcolor\":\"#E5ECF6\",\"gridcolor\":\"white\",\"linecolor\":\"white\",\"showbackground\":true,\"ticks\":\"\",\"zerolinecolor\":\"white\",\"gridwidth\":2}},\"shapedefaults\":{\"line\":{\"color\":\"#2a3f5f\"}},\"annotationdefaults\":{\"arrowcolor\":\"#2a3f5f\",\"arrowhead\":0,\"arrowwidth\":1},\"geo\":{\"bgcolor\":\"white\",\"landcolor\":\"#E5ECF6\",\"subunitcolor\":\"white\",\"showland\":true,\"showlakes\":true,\"lakecolor\":\"white\"},\"title\":{\"x\":0.05},\"mapbox\":{\"style\":\"light\"}}},\"mapbox\":{\"domain\":{\"x\":[0.0,1.0],\"y\":[0.0,1.0]},\"center\":{\"lat\":42.772085820100905,\"lon\":-1.612163054353082},\"accesstoken\":\"pk.eyJ1IjoiZ3JhbmFudHVpbiIsImEiOiJja3B4dGU4OTkwMTFmMm9ycnNhMjJvaGJqIn0.VWzx_PkD9A5cSUVsn_ijCA\",\"zoom\":8},\"coloraxis\":{\"colorbar\":{\"title\":{\"text\":\"distance\"}},\"colorscale\":[[0.0,\"#000000\"],[0.0625,\"#001f4d\"],[0.125,\"#003786\"],[0.1875,\"#0e58a8\"],[0.25,\"#217eb8\"],[0.3125,\"#30a4ca\"],[0.375,\"#54c8df\"],[0.4375,\"#9be4ef\"],[0.5,\"#e1e9d1\"],[0.5625,\"#f3d573\"],[0.625,\"#e7b000\"],[0.6875,\"#da8200\"],[0.75,\"#c65400\"],[0.8125,\"#ac2301\"],[0.875,\"#820000\"],[0.9375,\"#4c0000\"],[1.0,\"#000000\"]]},\"legend\":{\"tracegroupgap\":0},\"title\":{\"text\":\"Nearest points\"}},                        {\"responsive\": true}                    ).then(function(){\n",
              "                            \n",
              "var gd = document.getElementById('bbe4f748-557e-4c98-9c12-558dfb7cd56c');\n",
              "var x = new MutationObserver(function (mutations, observer) {{\n",
              "        var display = window.getComputedStyle(gd).display;\n",
              "        if (!display || display === 'none') {{\n",
              "            console.log([gd, 'removed!']);\n",
              "            Plotly.purge(gd);\n",
              "            observer.disconnect();\n",
              "        }}\n",
              "}});\n",
              "\n",
              "// Listen for the removal of the full notebook cells\n",
              "var notebookContainer = gd.closest('#notebook-container');\n",
              "if (notebookContainer) {{\n",
              "    x.observe(notebookContainer, {childList: true});\n",
              "}}\n",
              "\n",
              "// Listen for the clearing of the current output cell\n",
              "var outputEl = gd.closest('.output');\n",
              "if (outputEl) {{\n",
              "    x.observe(outputEl, {childList: true});\n",
              "}}\n",
              "\n",
              "                        })                };                            </script>        </div>\n",
              "</body>\n",
              "</html>"
            ]
          },
          "metadata": {}
        }
      ]
    },
    {
      "cell_type": "code",
      "source": [
        "from scipy.stats import shapiro\n",
        "import pandas as pd\n",
        "\n",
        "\n",
        "station = pd.read_csv(\"/content/drive/MyDrive/Colab Notebooks/LEPP/input_files/LEPP2018.csv\",\n",
        "                          usecols = [\"time\",\"mslp_o\"],\n",
        "                          parse_dates=[\"time\"]).set_index(\"time\")\n",
        "\n",
        "#Shapiro test normality\n",
        "print(\"Shapiro test normality\")\n",
        "\n",
        "\n",
        "sta, p = shapiro(station.mslp_o.sample(500))\n",
        "\n",
        "print(\"\\np value:\",p)\n",
        "#significance level alpha=0.01\n",
        "alpha = 0.01\n",
        "if p>alpha:\n",
        "  print(\"Accept null hypothesis: normal distribution pressure variable\\n\")\n",
        "else:\n",
        "  print(\"Reject null Hypothesis. Alternative hypothesis variable no normal distribution pressure variable\\n\")  \n",
        "\n",
        "                        \n",
        "station[\"mslp_o\"].describe()"
      ],
      "metadata": {
        "id": "OEX1x76AU35s",
        "colab": {
          "base_uri": "https://localhost:8080/"
        },
        "outputId": "7ef2736b-772f-46d6-e9f4-93acc2bd3adb"
      },
      "execution_count": 2,
      "outputs": [
        {
          "output_type": "stream",
          "name": "stdout",
          "text": [
            "Shapiro test normality\n",
            "\n",
            "p value: 1.9065655720851282e-09\n",
            "Reject null Hypothesis. Alternative hypothesis variable no normal distribution pressure variable\n",
            "\n"
          ]
        },
        {
          "output_type": "execute_result",
          "data": {
            "text/plain": [
              "count    17692.000000\n",
              "mean      1016.970043\n",
              "std          7.805642\n",
              "min        980.000000\n",
              "25%       1013.000000\n",
              "50%       1018.000000\n",
              "75%       1022.000000\n",
              "max       1039.000000\n",
              "Name: mslp_o, dtype: float64"
            ]
          },
          "metadata": {},
          "execution_count": 2
        }
      ]
    },
    {
      "cell_type": "markdown",
      "source": [
        "**Forecast **"
      ],
      "metadata": {
        "id": "eXs3F5ZTnQ8M"
      }
    },
    {
      "cell_type": "code",
      "source": [
        "model1k = pd.read_csv(\"/content/drive/MyDrive/Colab Notebooks/LEPP/input_files/lat42.77lon-1.647p3R12KmD1.csv\",parse_dates=[\"time\"]).drop(columns=[\"Unnamed: 0\"]).set_index(\"time\")\n",
        "\n",
        "model1k\n"
      ],
      "metadata": {
        "id": "o5ZTRduTZ36H",
        "colab": {
          "base_uri": "https://localhost:8080/",
          "height": 866
        },
        "outputId": "4867b7ff-a2a6-4a83-858e-665e91989ed9"
      },
      "execution_count": 3,
      "outputs": [
        {
          "output_type": "execute_result",
          "data": {
            "text/plain": [
              "                           dir0  snow_prec0   snowlevel0      mod0  \\\n",
              "time                                                                 \n",
              "2018-01-02 00:00:00  212.810684         0.0  1204.263184  2.763654   \n",
              "2018-01-02 01:00:00  219.902222         0.0  1239.573364  2.314501   \n",
              "2018-01-02 02:00:00  207.281235         0.0  1272.054932  2.600275   \n",
              "2018-01-02 03:00:00  192.515350         0.0  1294.618164  2.184818   \n",
              "2018-01-02 04:00:00  191.211334         0.0  1286.428467  3.427353   \n",
              "...                         ...         ...          ...       ...   \n",
              "2019-01-01 19:00:00  344.859467         0.0  1728.522583  7.440048   \n",
              "2019-01-01 20:00:00  345.285889         0.0  1709.658203  7.653408   \n",
              "2019-01-01 21:00:00  344.544983         0.0  1704.850708  7.664435   \n",
              "2019-01-01 22:00:00  345.960510         0.0  1698.476074  7.937735   \n",
              "2019-01-01 23:00:00  343.994934         0.0  1685.477783  8.029095   \n",
              "\n",
              "                     wind_gust0          mslp0       temp0       rh0  \\\n",
              "time                                                                   \n",
              "2018-01-02 00:00:00    9.542564  102839.890625  281.275116  0.947388   \n",
              "2018-01-02 01:00:00    3.172857  102786.210938  281.294525  0.942502   \n",
              "2018-01-02 02:00:00    3.666056  102732.492188  280.760559  0.957805   \n",
              "2018-01-02 03:00:00    3.098562  102700.179688  280.855927  0.977439   \n",
              "2018-01-02 04:00:00    4.461230  102694.937500  281.143433  0.951643   \n",
              "...                         ...            ...         ...       ...   \n",
              "2019-01-01 19:00:00   11.918997  103544.250000  278.996826  0.968763   \n",
              "2019-01-01 20:00:00   12.149794  103542.710938  278.911560  0.955455   \n",
              "2019-01-01 21:00:00   12.332341  103549.656250  278.855560  0.945516   \n",
              "2019-01-01 22:00:00   12.347857  103570.140625  278.649750  0.953525   \n",
              "2019-01-01 23:00:00   12.532106  103577.773438  278.412384  0.962824   \n",
              "\n",
              "                      visibility0     lhflx0  ...  cape2      cin2     cfh2  \\\n",
              "time                                          ...                             \n",
              "2018-01-02 00:00:00  22412.476562   3.646313  ...   0.00  0.000469  0.00000   \n",
              "2018-01-02 01:00:00  24212.171875   3.307739  ...   0.00 -0.003242  0.00000   \n",
              "2018-01-02 02:00:00  16212.355469   1.134692  ...   0.00  0.003242  0.00000   \n",
              "2018-01-02 03:00:00  16412.923828   0.462329  ...   0.00 -0.003906  0.34375   \n",
              "2018-01-02 04:00:00  24214.121094   2.390747  ...   1.95 -9.202851  0.00000   \n",
              "...                           ...        ...  ...    ...       ...      ...   \n",
              "2019-01-01 19:00:00  24035.839844  11.358910  ...   0.00  0.001641  0.00000   \n",
              "2019-01-01 20:00:00  24037.287109  13.632413  ...   0.00 -0.003359  0.00000   \n",
              "2019-01-01 21:00:00  24037.503906  15.266365  ...   0.00 -0.001055  0.00000   \n",
              "2019-01-01 22:00:00  24037.154297  14.260696  ...   0.00  0.000469  0.00000   \n",
              "2019-01-01 23:00:00  24037.871094  12.322008  ...   0.00  0.001016  0.00000   \n",
              "\n",
              "                         cfl2      cfm2      cft2      HGT5002      HGT8502  \\\n",
              "time                                                                          \n",
              "2018-01-02 00:00:00  0.468750  0.093750  0.468750  5607.215820  1578.078003   \n",
              "2018-01-02 01:00:00  0.445312  0.054688  0.445312  5612.247070  1574.463013   \n",
              "2018-01-02 02:00:00  0.585938  0.484375  0.585938  5611.367188  1570.259033   \n",
              "2018-01-02 03:00:00  0.640625  0.585938  0.640625  5613.012207  1569.241943   \n",
              "2018-01-02 04:00:00  0.266460  0.289062  0.289062  5614.570801  1565.439941   \n",
              "...                       ...       ...       ...          ...          ...   \n",
              "2019-01-01 19:00:00  0.156830  0.000000  0.156830  5743.180176  1633.011963   \n",
              "2019-01-01 20:00:00  0.028191  0.000000  0.028191  5742.202148  1632.599976   \n",
              "2019-01-01 21:00:00  0.000000  0.000000  0.000000  5741.512207  1633.116943   \n",
              "2019-01-01 22:00:00  0.000000  0.000000  0.000000  5741.190918  1633.918945   \n",
              "2019-01-01 23:00:00  0.000000  0.000000  0.000000  5738.270996  1633.211060   \n",
              "\n",
              "                          T5002       T8502  \n",
              "time                                         \n",
              "2018-01-02 00:00:00  252.732269  275.716339  \n",
              "2018-01-02 01:00:00  253.178864  275.794250  \n",
              "2018-01-02 02:00:00  253.765778  275.807709  \n",
              "2018-01-02 03:00:00  253.932220  276.248291  \n",
              "2018-01-02 04:00:00  254.208084  275.869568  \n",
              "...                         ...         ...  \n",
              "2019-01-01 19:00:00  255.708374  282.949585  \n",
              "2019-01-01 20:00:00  255.604370  282.798309  \n",
              "2019-01-01 21:00:00  255.559067  282.708557  \n",
              "2019-01-01 22:00:00  255.534256  282.704010  \n",
              "2019-01-01 23:00:00  255.400940  282.778870  \n",
              "\n",
              "[8736 rows x 75 columns]"
            ],
            "text/html": [
              "\n",
              "  <div id=\"df-df13fe9a-3f9a-4133-8dd0-0b21439279aa\">\n",
              "    <div class=\"colab-df-container\">\n",
              "      <div>\n",
              "<style scoped>\n",
              "    .dataframe tbody tr th:only-of-type {\n",
              "        vertical-align: middle;\n",
              "    }\n",
              "\n",
              "    .dataframe tbody tr th {\n",
              "        vertical-align: top;\n",
              "    }\n",
              "\n",
              "    .dataframe thead th {\n",
              "        text-align: right;\n",
              "    }\n",
              "</style>\n",
              "<table border=\"1\" class=\"dataframe\">\n",
              "  <thead>\n",
              "    <tr style=\"text-align: right;\">\n",
              "      <th></th>\n",
              "      <th>dir0</th>\n",
              "      <th>snow_prec0</th>\n",
              "      <th>snowlevel0</th>\n",
              "      <th>mod0</th>\n",
              "      <th>wind_gust0</th>\n",
              "      <th>mslp0</th>\n",
              "      <th>temp0</th>\n",
              "      <th>rh0</th>\n",
              "      <th>visibility0</th>\n",
              "      <th>lhflx0</th>\n",
              "      <th>...</th>\n",
              "      <th>cape2</th>\n",
              "      <th>cin2</th>\n",
              "      <th>cfh2</th>\n",
              "      <th>cfl2</th>\n",
              "      <th>cfm2</th>\n",
              "      <th>cft2</th>\n",
              "      <th>HGT5002</th>\n",
              "      <th>HGT8502</th>\n",
              "      <th>T5002</th>\n",
              "      <th>T8502</th>\n",
              "    </tr>\n",
              "    <tr>\n",
              "      <th>time</th>\n",
              "      <th></th>\n",
              "      <th></th>\n",
              "      <th></th>\n",
              "      <th></th>\n",
              "      <th></th>\n",
              "      <th></th>\n",
              "      <th></th>\n",
              "      <th></th>\n",
              "      <th></th>\n",
              "      <th></th>\n",
              "      <th></th>\n",
              "      <th></th>\n",
              "      <th></th>\n",
              "      <th></th>\n",
              "      <th></th>\n",
              "      <th></th>\n",
              "      <th></th>\n",
              "      <th></th>\n",
              "      <th></th>\n",
              "      <th></th>\n",
              "      <th></th>\n",
              "    </tr>\n",
              "  </thead>\n",
              "  <tbody>\n",
              "    <tr>\n",
              "      <th>2018-01-02 00:00:00</th>\n",
              "      <td>212.810684</td>\n",
              "      <td>0.0</td>\n",
              "      <td>1204.263184</td>\n",
              "      <td>2.763654</td>\n",
              "      <td>9.542564</td>\n",
              "      <td>102839.890625</td>\n",
              "      <td>281.275116</td>\n",
              "      <td>0.947388</td>\n",
              "      <td>22412.476562</td>\n",
              "      <td>3.646313</td>\n",
              "      <td>...</td>\n",
              "      <td>0.00</td>\n",
              "      <td>0.000469</td>\n",
              "      <td>0.00000</td>\n",
              "      <td>0.468750</td>\n",
              "      <td>0.093750</td>\n",
              "      <td>0.468750</td>\n",
              "      <td>5607.215820</td>\n",
              "      <td>1578.078003</td>\n",
              "      <td>252.732269</td>\n",
              "      <td>275.716339</td>\n",
              "    </tr>\n",
              "    <tr>\n",
              "      <th>2018-01-02 01:00:00</th>\n",
              "      <td>219.902222</td>\n",
              "      <td>0.0</td>\n",
              "      <td>1239.573364</td>\n",
              "      <td>2.314501</td>\n",
              "      <td>3.172857</td>\n",
              "      <td>102786.210938</td>\n",
              "      <td>281.294525</td>\n",
              "      <td>0.942502</td>\n",
              "      <td>24212.171875</td>\n",
              "      <td>3.307739</td>\n",
              "      <td>...</td>\n",
              "      <td>0.00</td>\n",
              "      <td>-0.003242</td>\n",
              "      <td>0.00000</td>\n",
              "      <td>0.445312</td>\n",
              "      <td>0.054688</td>\n",
              "      <td>0.445312</td>\n",
              "      <td>5612.247070</td>\n",
              "      <td>1574.463013</td>\n",
              "      <td>253.178864</td>\n",
              "      <td>275.794250</td>\n",
              "    </tr>\n",
              "    <tr>\n",
              "      <th>2018-01-02 02:00:00</th>\n",
              "      <td>207.281235</td>\n",
              "      <td>0.0</td>\n",
              "      <td>1272.054932</td>\n",
              "      <td>2.600275</td>\n",
              "      <td>3.666056</td>\n",
              "      <td>102732.492188</td>\n",
              "      <td>280.760559</td>\n",
              "      <td>0.957805</td>\n",
              "      <td>16212.355469</td>\n",
              "      <td>1.134692</td>\n",
              "      <td>...</td>\n",
              "      <td>0.00</td>\n",
              "      <td>0.003242</td>\n",
              "      <td>0.00000</td>\n",
              "      <td>0.585938</td>\n",
              "      <td>0.484375</td>\n",
              "      <td>0.585938</td>\n",
              "      <td>5611.367188</td>\n",
              "      <td>1570.259033</td>\n",
              "      <td>253.765778</td>\n",
              "      <td>275.807709</td>\n",
              "    </tr>\n",
              "    <tr>\n",
              "      <th>2018-01-02 03:00:00</th>\n",
              "      <td>192.515350</td>\n",
              "      <td>0.0</td>\n",
              "      <td>1294.618164</td>\n",
              "      <td>2.184818</td>\n",
              "      <td>3.098562</td>\n",
              "      <td>102700.179688</td>\n",
              "      <td>280.855927</td>\n",
              "      <td>0.977439</td>\n",
              "      <td>16412.923828</td>\n",
              "      <td>0.462329</td>\n",
              "      <td>...</td>\n",
              "      <td>0.00</td>\n",
              "      <td>-0.003906</td>\n",
              "      <td>0.34375</td>\n",
              "      <td>0.640625</td>\n",
              "      <td>0.585938</td>\n",
              "      <td>0.640625</td>\n",
              "      <td>5613.012207</td>\n",
              "      <td>1569.241943</td>\n",
              "      <td>253.932220</td>\n",
              "      <td>276.248291</td>\n",
              "    </tr>\n",
              "    <tr>\n",
              "      <th>2018-01-02 04:00:00</th>\n",
              "      <td>191.211334</td>\n",
              "      <td>0.0</td>\n",
              "      <td>1286.428467</td>\n",
              "      <td>3.427353</td>\n",
              "      <td>4.461230</td>\n",
              "      <td>102694.937500</td>\n",
              "      <td>281.143433</td>\n",
              "      <td>0.951643</td>\n",
              "      <td>24214.121094</td>\n",
              "      <td>2.390747</td>\n",
              "      <td>...</td>\n",
              "      <td>1.95</td>\n",
              "      <td>-9.202851</td>\n",
              "      <td>0.00000</td>\n",
              "      <td>0.266460</td>\n",
              "      <td>0.289062</td>\n",
              "      <td>0.289062</td>\n",
              "      <td>5614.570801</td>\n",
              "      <td>1565.439941</td>\n",
              "      <td>254.208084</td>\n",
              "      <td>275.869568</td>\n",
              "    </tr>\n",
              "    <tr>\n",
              "      <th>...</th>\n",
              "      <td>...</td>\n",
              "      <td>...</td>\n",
              "      <td>...</td>\n",
              "      <td>...</td>\n",
              "      <td>...</td>\n",
              "      <td>...</td>\n",
              "      <td>...</td>\n",
              "      <td>...</td>\n",
              "      <td>...</td>\n",
              "      <td>...</td>\n",
              "      <td>...</td>\n",
              "      <td>...</td>\n",
              "      <td>...</td>\n",
              "      <td>...</td>\n",
              "      <td>...</td>\n",
              "      <td>...</td>\n",
              "      <td>...</td>\n",
              "      <td>...</td>\n",
              "      <td>...</td>\n",
              "      <td>...</td>\n",
              "      <td>...</td>\n",
              "    </tr>\n",
              "    <tr>\n",
              "      <th>2019-01-01 19:00:00</th>\n",
              "      <td>344.859467</td>\n",
              "      <td>0.0</td>\n",
              "      <td>1728.522583</td>\n",
              "      <td>7.440048</td>\n",
              "      <td>11.918997</td>\n",
              "      <td>103544.250000</td>\n",
              "      <td>278.996826</td>\n",
              "      <td>0.968763</td>\n",
              "      <td>24035.839844</td>\n",
              "      <td>11.358910</td>\n",
              "      <td>...</td>\n",
              "      <td>0.00</td>\n",
              "      <td>0.001641</td>\n",
              "      <td>0.00000</td>\n",
              "      <td>0.156830</td>\n",
              "      <td>0.000000</td>\n",
              "      <td>0.156830</td>\n",
              "      <td>5743.180176</td>\n",
              "      <td>1633.011963</td>\n",
              "      <td>255.708374</td>\n",
              "      <td>282.949585</td>\n",
              "    </tr>\n",
              "    <tr>\n",
              "      <th>2019-01-01 20:00:00</th>\n",
              "      <td>345.285889</td>\n",
              "      <td>0.0</td>\n",
              "      <td>1709.658203</td>\n",
              "      <td>7.653408</td>\n",
              "      <td>12.149794</td>\n",
              "      <td>103542.710938</td>\n",
              "      <td>278.911560</td>\n",
              "      <td>0.955455</td>\n",
              "      <td>24037.287109</td>\n",
              "      <td>13.632413</td>\n",
              "      <td>...</td>\n",
              "      <td>0.00</td>\n",
              "      <td>-0.003359</td>\n",
              "      <td>0.00000</td>\n",
              "      <td>0.028191</td>\n",
              "      <td>0.000000</td>\n",
              "      <td>0.028191</td>\n",
              "      <td>5742.202148</td>\n",
              "      <td>1632.599976</td>\n",
              "      <td>255.604370</td>\n",
              "      <td>282.798309</td>\n",
              "    </tr>\n",
              "    <tr>\n",
              "      <th>2019-01-01 21:00:00</th>\n",
              "      <td>344.544983</td>\n",
              "      <td>0.0</td>\n",
              "      <td>1704.850708</td>\n",
              "      <td>7.664435</td>\n",
              "      <td>12.332341</td>\n",
              "      <td>103549.656250</td>\n",
              "      <td>278.855560</td>\n",
              "      <td>0.945516</td>\n",
              "      <td>24037.503906</td>\n",
              "      <td>15.266365</td>\n",
              "      <td>...</td>\n",
              "      <td>0.00</td>\n",
              "      <td>-0.001055</td>\n",
              "      <td>0.00000</td>\n",
              "      <td>0.000000</td>\n",
              "      <td>0.000000</td>\n",
              "      <td>0.000000</td>\n",
              "      <td>5741.512207</td>\n",
              "      <td>1633.116943</td>\n",
              "      <td>255.559067</td>\n",
              "      <td>282.708557</td>\n",
              "    </tr>\n",
              "    <tr>\n",
              "      <th>2019-01-01 22:00:00</th>\n",
              "      <td>345.960510</td>\n",
              "      <td>0.0</td>\n",
              "      <td>1698.476074</td>\n",
              "      <td>7.937735</td>\n",
              "      <td>12.347857</td>\n",
              "      <td>103570.140625</td>\n",
              "      <td>278.649750</td>\n",
              "      <td>0.953525</td>\n",
              "      <td>24037.154297</td>\n",
              "      <td>14.260696</td>\n",
              "      <td>...</td>\n",
              "      <td>0.00</td>\n",
              "      <td>0.000469</td>\n",
              "      <td>0.00000</td>\n",
              "      <td>0.000000</td>\n",
              "      <td>0.000000</td>\n",
              "      <td>0.000000</td>\n",
              "      <td>5741.190918</td>\n",
              "      <td>1633.918945</td>\n",
              "      <td>255.534256</td>\n",
              "      <td>282.704010</td>\n",
              "    </tr>\n",
              "    <tr>\n",
              "      <th>2019-01-01 23:00:00</th>\n",
              "      <td>343.994934</td>\n",
              "      <td>0.0</td>\n",
              "      <td>1685.477783</td>\n",
              "      <td>8.029095</td>\n",
              "      <td>12.532106</td>\n",
              "      <td>103577.773438</td>\n",
              "      <td>278.412384</td>\n",
              "      <td>0.962824</td>\n",
              "      <td>24037.871094</td>\n",
              "      <td>12.322008</td>\n",
              "      <td>...</td>\n",
              "      <td>0.00</td>\n",
              "      <td>0.001016</td>\n",
              "      <td>0.00000</td>\n",
              "      <td>0.000000</td>\n",
              "      <td>0.000000</td>\n",
              "      <td>0.000000</td>\n",
              "      <td>5738.270996</td>\n",
              "      <td>1633.211060</td>\n",
              "      <td>255.400940</td>\n",
              "      <td>282.778870</td>\n",
              "    </tr>\n",
              "  </tbody>\n",
              "</table>\n",
              "<p>8736 rows × 75 columns</p>\n",
              "</div>\n",
              "      <button class=\"colab-df-convert\" onclick=\"convertToInteractive('df-df13fe9a-3f9a-4133-8dd0-0b21439279aa')\"\n",
              "              title=\"Convert this dataframe to an interactive table.\"\n",
              "              style=\"display:none;\">\n",
              "        \n",
              "  <svg xmlns=\"http://www.w3.org/2000/svg\" height=\"24px\"viewBox=\"0 0 24 24\"\n",
              "       width=\"24px\">\n",
              "    <path d=\"M0 0h24v24H0V0z\" fill=\"none\"/>\n",
              "    <path d=\"M18.56 5.44l.94 2.06.94-2.06 2.06-.94-2.06-.94-.94-2.06-.94 2.06-2.06.94zm-11 1L8.5 8.5l.94-2.06 2.06-.94-2.06-.94L8.5 2.5l-.94 2.06-2.06.94zm10 10l.94 2.06.94-2.06 2.06-.94-2.06-.94-.94-2.06-.94 2.06-2.06.94z\"/><path d=\"M17.41 7.96l-1.37-1.37c-.4-.4-.92-.59-1.43-.59-.52 0-1.04.2-1.43.59L10.3 9.45l-7.72 7.72c-.78.78-.78 2.05 0 2.83L4 21.41c.39.39.9.59 1.41.59.51 0 1.02-.2 1.41-.59l7.78-7.78 2.81-2.81c.8-.78.8-2.07 0-2.86zM5.41 20L4 18.59l7.72-7.72 1.47 1.35L5.41 20z\"/>\n",
              "  </svg>\n",
              "      </button>\n",
              "      \n",
              "  <style>\n",
              "    .colab-df-container {\n",
              "      display:flex;\n",
              "      flex-wrap:wrap;\n",
              "      gap: 12px;\n",
              "    }\n",
              "\n",
              "    .colab-df-convert {\n",
              "      background-color: #E8F0FE;\n",
              "      border: none;\n",
              "      border-radius: 50%;\n",
              "      cursor: pointer;\n",
              "      display: none;\n",
              "      fill: #1967D2;\n",
              "      height: 32px;\n",
              "      padding: 0 0 0 0;\n",
              "      width: 32px;\n",
              "    }\n",
              "\n",
              "    .colab-df-convert:hover {\n",
              "      background-color: #E2EBFA;\n",
              "      box-shadow: 0px 1px 2px rgba(60, 64, 67, 0.3), 0px 1px 3px 1px rgba(60, 64, 67, 0.15);\n",
              "      fill: #174EA6;\n",
              "    }\n",
              "\n",
              "    [theme=dark] .colab-df-convert {\n",
              "      background-color: #3B4455;\n",
              "      fill: #D2E3FC;\n",
              "    }\n",
              "\n",
              "    [theme=dark] .colab-df-convert:hover {\n",
              "      background-color: #434B5C;\n",
              "      box-shadow: 0px 1px 3px 1px rgba(0, 0, 0, 0.15);\n",
              "      filter: drop-shadow(0px 1px 2px rgba(0, 0, 0, 0.3));\n",
              "      fill: #FFFFFF;\n",
              "    }\n",
              "  </style>\n",
              "\n",
              "      <script>\n",
              "        const buttonEl =\n",
              "          document.querySelector('#df-df13fe9a-3f9a-4133-8dd0-0b21439279aa button.colab-df-convert');\n",
              "        buttonEl.style.display =\n",
              "          google.colab.kernel.accessAllowed ? 'block' : 'none';\n",
              "\n",
              "        async function convertToInteractive(key) {\n",
              "          const element = document.querySelector('#df-df13fe9a-3f9a-4133-8dd0-0b21439279aa');\n",
              "          const dataTable =\n",
              "            await google.colab.kernel.invokeFunction('convertToInteractive',\n",
              "                                                     [key], {});\n",
              "          if (!dataTable) return;\n",
              "\n",
              "          const docLinkHtml = 'Like what you see? Visit the ' +\n",
              "            '<a target=\"_blank\" href=https://colab.research.google.com/notebooks/data_table.ipynb>data table notebook</a>'\n",
              "            + ' to learn more about interactive tables.';\n",
              "          element.innerHTML = '';\n",
              "          dataTable['output_type'] = 'display_data';\n",
              "          await google.colab.output.renderOutput(dataTable, element);\n",
              "          const docLink = document.createElement('div');\n",
              "          docLink.innerHTML = docLinkHtml;\n",
              "          element.appendChild(docLink);\n",
              "        }\n",
              "      </script>\n",
              "    </div>\n",
              "  </div>\n",
              "  "
            ]
          },
          "metadata": {},
          "execution_count": 3
        }
      ]
    },
    {
      "cell_type": "code",
      "source": [
        "#concat station model\n",
        "df_all1k = pd.concat([station,model1k],axis=1).dropna()\n",
        "df_all1k"
      ],
      "metadata": {
        "colab": {
          "base_uri": "https://localhost:8080/",
          "height": 866
        },
        "id": "Pew3L8PHgA0R",
        "outputId": "f40b483c-fcc2-44bb-d406-0a1960b04244"
      },
      "execution_count": 4,
      "outputs": [
        {
          "output_type": "execute_result",
          "data": {
            "text/plain": [
              "                     mslp_o        dir0  snow_prec0   snowlevel0      mod0  \\\n",
              "time                                                                         \n",
              "2018-01-02 00:00:00  1028.0  212.810684         0.0  1204.263184  2.763654   \n",
              "2018-01-02 01:00:00  1028.0  219.902222         0.0  1239.573364  2.314501   \n",
              "2018-01-02 02:00:00  1027.0  207.281235         0.0  1272.054932  2.600275   \n",
              "2018-01-02 03:00:00  1027.0  192.515350         0.0  1294.618164  2.184818   \n",
              "2018-01-02 04:00:00  1027.0  191.211334         0.0  1286.428467  3.427353   \n",
              "...                     ...         ...         ...          ...       ...   \n",
              "2018-12-30 19:00:00  1031.0  349.103638         0.0  1798.181885  6.382390   \n",
              "2018-12-30 20:00:00  1031.0  347.016388         0.0  1807.223267  6.024676   \n",
              "2018-12-30 21:00:00  1031.0  348.243347         0.0  1807.652100  6.441942   \n",
              "2018-12-30 22:00:00  1031.0  343.525787         0.0  1797.279663  5.986426   \n",
              "2018-12-30 23:00:00  1031.0  339.992493         0.0  1775.461182  5.929533   \n",
              "\n",
              "                     wind_gust0          mslp0       temp0       rh0  \\\n",
              "time                                                                   \n",
              "2018-01-02 00:00:00    9.542564  102839.890625  281.275116  0.947388   \n",
              "2018-01-02 01:00:00    3.172857  102786.210938  281.294525  0.942502   \n",
              "2018-01-02 02:00:00    3.666056  102732.492188  280.760559  0.957805   \n",
              "2018-01-02 03:00:00    3.098562  102700.179688  280.855927  0.977439   \n",
              "2018-01-02 04:00:00    4.461230  102694.937500  281.143433  0.951643   \n",
              "...                         ...            ...         ...       ...   \n",
              "2018-12-30 19:00:00    9.346894  103399.609375  279.453674  0.768635   \n",
              "2018-12-30 20:00:00    7.574009  103369.320312  279.441376  0.774162   \n",
              "2018-12-30 21:00:00    9.536459  103380.078125  279.481567  0.768679   \n",
              "2018-12-30 22:00:00    8.741964  103421.250000  278.897247  0.778403   \n",
              "2018-12-30 23:00:00    7.481382  103427.140625  278.581757  0.780921   \n",
              "\n",
              "                      visibility0  ...  cape2      cin2      cfh2      cfl2  \\\n",
              "time                               ...                                        \n",
              "2018-01-02 00:00:00  22412.476562  ...   0.00  0.000469  0.000000  0.468750   \n",
              "2018-01-02 01:00:00  24212.171875  ...   0.00 -0.003242  0.000000  0.445312   \n",
              "2018-01-02 02:00:00  16212.355469  ...   0.00  0.003242  0.000000  0.585938   \n",
              "2018-01-02 03:00:00  16412.923828  ...   0.00 -0.003906  0.343750  0.640625   \n",
              "2018-01-02 04:00:00  24214.121094  ...   1.95 -9.202851  0.000000  0.266460   \n",
              "...                           ...  ...    ...       ...       ...       ...   \n",
              "2018-12-30 19:00:00  24039.595703  ...   0.00 -0.000625  0.000000  0.000000   \n",
              "2018-12-30 20:00:00  24040.613281  ...   0.00  0.000742  0.000000  0.000000   \n",
              "2018-12-30 21:00:00  24042.025391  ...   0.00  0.000937  0.000000  0.000000   \n",
              "2018-12-30 22:00:00  24038.234375  ...   0.00 -0.000703  0.000000  0.000000   \n",
              "2018-12-30 23:00:00  24040.365234  ...   0.00  0.000039  0.101562  0.000000   \n",
              "\n",
              "                         cfm2      cft2      HGT5002      HGT8502       T5002  \\\n",
              "time                                                                            \n",
              "2018-01-02 00:00:00  0.093750  0.468750  5607.215820  1578.078003  252.732269   \n",
              "2018-01-02 01:00:00  0.054688  0.445312  5612.247070  1574.463013  253.178864   \n",
              "2018-01-02 02:00:00  0.484375  0.585938  5611.367188  1570.259033  253.765778   \n",
              "2018-01-02 03:00:00  0.585938  0.640625  5613.012207  1569.241943  253.932220   \n",
              "2018-01-02 04:00:00  0.289062  0.289062  5614.570801  1565.439941  254.208084   \n",
              "...                       ...       ...          ...          ...         ...   \n",
              "2018-12-30 19:00:00  0.000000  0.000000  5724.754883  1637.458008  253.731430   \n",
              "2018-12-30 20:00:00  0.000000  0.000000  5724.288086  1635.755005  253.731628   \n",
              "2018-12-30 21:00:00  0.000000  0.000000  5723.713867  1635.202026  253.642181   \n",
              "2018-12-30 22:00:00  0.000000  0.000000  5724.727051  1637.305054  253.679871   \n",
              "2018-12-30 23:00:00  0.000000  0.101562  5723.558105  1637.697998  253.707443   \n",
              "\n",
              "                          T8502  \n",
              "time                             \n",
              "2018-01-02 00:00:00  275.716339  \n",
              "2018-01-02 01:00:00  275.794250  \n",
              "2018-01-02 02:00:00  275.807709  \n",
              "2018-01-02 03:00:00  276.248291  \n",
              "2018-01-02 04:00:00  275.869568  \n",
              "...                         ...  \n",
              "2018-12-30 19:00:00  284.070923  \n",
              "2018-12-30 20:00:00  284.076691  \n",
              "2018-12-30 21:00:00  284.166443  \n",
              "2018-12-30 22:00:00  284.074127  \n",
              "2018-12-30 23:00:00  283.651611  \n",
              "\n",
              "[8649 rows x 76 columns]"
            ],
            "text/html": [
              "\n",
              "  <div id=\"df-dc8b2527-e1b2-49fa-a730-e129c028d1bc\">\n",
              "    <div class=\"colab-df-container\">\n",
              "      <div>\n",
              "<style scoped>\n",
              "    .dataframe tbody tr th:only-of-type {\n",
              "        vertical-align: middle;\n",
              "    }\n",
              "\n",
              "    .dataframe tbody tr th {\n",
              "        vertical-align: top;\n",
              "    }\n",
              "\n",
              "    .dataframe thead th {\n",
              "        text-align: right;\n",
              "    }\n",
              "</style>\n",
              "<table border=\"1\" class=\"dataframe\">\n",
              "  <thead>\n",
              "    <tr style=\"text-align: right;\">\n",
              "      <th></th>\n",
              "      <th>mslp_o</th>\n",
              "      <th>dir0</th>\n",
              "      <th>snow_prec0</th>\n",
              "      <th>snowlevel0</th>\n",
              "      <th>mod0</th>\n",
              "      <th>wind_gust0</th>\n",
              "      <th>mslp0</th>\n",
              "      <th>temp0</th>\n",
              "      <th>rh0</th>\n",
              "      <th>visibility0</th>\n",
              "      <th>...</th>\n",
              "      <th>cape2</th>\n",
              "      <th>cin2</th>\n",
              "      <th>cfh2</th>\n",
              "      <th>cfl2</th>\n",
              "      <th>cfm2</th>\n",
              "      <th>cft2</th>\n",
              "      <th>HGT5002</th>\n",
              "      <th>HGT8502</th>\n",
              "      <th>T5002</th>\n",
              "      <th>T8502</th>\n",
              "    </tr>\n",
              "    <tr>\n",
              "      <th>time</th>\n",
              "      <th></th>\n",
              "      <th></th>\n",
              "      <th></th>\n",
              "      <th></th>\n",
              "      <th></th>\n",
              "      <th></th>\n",
              "      <th></th>\n",
              "      <th></th>\n",
              "      <th></th>\n",
              "      <th></th>\n",
              "      <th></th>\n",
              "      <th></th>\n",
              "      <th></th>\n",
              "      <th></th>\n",
              "      <th></th>\n",
              "      <th></th>\n",
              "      <th></th>\n",
              "      <th></th>\n",
              "      <th></th>\n",
              "      <th></th>\n",
              "      <th></th>\n",
              "    </tr>\n",
              "  </thead>\n",
              "  <tbody>\n",
              "    <tr>\n",
              "      <th>2018-01-02 00:00:00</th>\n",
              "      <td>1028.0</td>\n",
              "      <td>212.810684</td>\n",
              "      <td>0.0</td>\n",
              "      <td>1204.263184</td>\n",
              "      <td>2.763654</td>\n",
              "      <td>9.542564</td>\n",
              "      <td>102839.890625</td>\n",
              "      <td>281.275116</td>\n",
              "      <td>0.947388</td>\n",
              "      <td>22412.476562</td>\n",
              "      <td>...</td>\n",
              "      <td>0.00</td>\n",
              "      <td>0.000469</td>\n",
              "      <td>0.000000</td>\n",
              "      <td>0.468750</td>\n",
              "      <td>0.093750</td>\n",
              "      <td>0.468750</td>\n",
              "      <td>5607.215820</td>\n",
              "      <td>1578.078003</td>\n",
              "      <td>252.732269</td>\n",
              "      <td>275.716339</td>\n",
              "    </tr>\n",
              "    <tr>\n",
              "      <th>2018-01-02 01:00:00</th>\n",
              "      <td>1028.0</td>\n",
              "      <td>219.902222</td>\n",
              "      <td>0.0</td>\n",
              "      <td>1239.573364</td>\n",
              "      <td>2.314501</td>\n",
              "      <td>3.172857</td>\n",
              "      <td>102786.210938</td>\n",
              "      <td>281.294525</td>\n",
              "      <td>0.942502</td>\n",
              "      <td>24212.171875</td>\n",
              "      <td>...</td>\n",
              "      <td>0.00</td>\n",
              "      <td>-0.003242</td>\n",
              "      <td>0.000000</td>\n",
              "      <td>0.445312</td>\n",
              "      <td>0.054688</td>\n",
              "      <td>0.445312</td>\n",
              "      <td>5612.247070</td>\n",
              "      <td>1574.463013</td>\n",
              "      <td>253.178864</td>\n",
              "      <td>275.794250</td>\n",
              "    </tr>\n",
              "    <tr>\n",
              "      <th>2018-01-02 02:00:00</th>\n",
              "      <td>1027.0</td>\n",
              "      <td>207.281235</td>\n",
              "      <td>0.0</td>\n",
              "      <td>1272.054932</td>\n",
              "      <td>2.600275</td>\n",
              "      <td>3.666056</td>\n",
              "      <td>102732.492188</td>\n",
              "      <td>280.760559</td>\n",
              "      <td>0.957805</td>\n",
              "      <td>16212.355469</td>\n",
              "      <td>...</td>\n",
              "      <td>0.00</td>\n",
              "      <td>0.003242</td>\n",
              "      <td>0.000000</td>\n",
              "      <td>0.585938</td>\n",
              "      <td>0.484375</td>\n",
              "      <td>0.585938</td>\n",
              "      <td>5611.367188</td>\n",
              "      <td>1570.259033</td>\n",
              "      <td>253.765778</td>\n",
              "      <td>275.807709</td>\n",
              "    </tr>\n",
              "    <tr>\n",
              "      <th>2018-01-02 03:00:00</th>\n",
              "      <td>1027.0</td>\n",
              "      <td>192.515350</td>\n",
              "      <td>0.0</td>\n",
              "      <td>1294.618164</td>\n",
              "      <td>2.184818</td>\n",
              "      <td>3.098562</td>\n",
              "      <td>102700.179688</td>\n",
              "      <td>280.855927</td>\n",
              "      <td>0.977439</td>\n",
              "      <td>16412.923828</td>\n",
              "      <td>...</td>\n",
              "      <td>0.00</td>\n",
              "      <td>-0.003906</td>\n",
              "      <td>0.343750</td>\n",
              "      <td>0.640625</td>\n",
              "      <td>0.585938</td>\n",
              "      <td>0.640625</td>\n",
              "      <td>5613.012207</td>\n",
              "      <td>1569.241943</td>\n",
              "      <td>253.932220</td>\n",
              "      <td>276.248291</td>\n",
              "    </tr>\n",
              "    <tr>\n",
              "      <th>2018-01-02 04:00:00</th>\n",
              "      <td>1027.0</td>\n",
              "      <td>191.211334</td>\n",
              "      <td>0.0</td>\n",
              "      <td>1286.428467</td>\n",
              "      <td>3.427353</td>\n",
              "      <td>4.461230</td>\n",
              "      <td>102694.937500</td>\n",
              "      <td>281.143433</td>\n",
              "      <td>0.951643</td>\n",
              "      <td>24214.121094</td>\n",
              "      <td>...</td>\n",
              "      <td>1.95</td>\n",
              "      <td>-9.202851</td>\n",
              "      <td>0.000000</td>\n",
              "      <td>0.266460</td>\n",
              "      <td>0.289062</td>\n",
              "      <td>0.289062</td>\n",
              "      <td>5614.570801</td>\n",
              "      <td>1565.439941</td>\n",
              "      <td>254.208084</td>\n",
              "      <td>275.869568</td>\n",
              "    </tr>\n",
              "    <tr>\n",
              "      <th>...</th>\n",
              "      <td>...</td>\n",
              "      <td>...</td>\n",
              "      <td>...</td>\n",
              "      <td>...</td>\n",
              "      <td>...</td>\n",
              "      <td>...</td>\n",
              "      <td>...</td>\n",
              "      <td>...</td>\n",
              "      <td>...</td>\n",
              "      <td>...</td>\n",
              "      <td>...</td>\n",
              "      <td>...</td>\n",
              "      <td>...</td>\n",
              "      <td>...</td>\n",
              "      <td>...</td>\n",
              "      <td>...</td>\n",
              "      <td>...</td>\n",
              "      <td>...</td>\n",
              "      <td>...</td>\n",
              "      <td>...</td>\n",
              "      <td>...</td>\n",
              "    </tr>\n",
              "    <tr>\n",
              "      <th>2018-12-30 19:00:00</th>\n",
              "      <td>1031.0</td>\n",
              "      <td>349.103638</td>\n",
              "      <td>0.0</td>\n",
              "      <td>1798.181885</td>\n",
              "      <td>6.382390</td>\n",
              "      <td>9.346894</td>\n",
              "      <td>103399.609375</td>\n",
              "      <td>279.453674</td>\n",
              "      <td>0.768635</td>\n",
              "      <td>24039.595703</td>\n",
              "      <td>...</td>\n",
              "      <td>0.00</td>\n",
              "      <td>-0.000625</td>\n",
              "      <td>0.000000</td>\n",
              "      <td>0.000000</td>\n",
              "      <td>0.000000</td>\n",
              "      <td>0.000000</td>\n",
              "      <td>5724.754883</td>\n",
              "      <td>1637.458008</td>\n",
              "      <td>253.731430</td>\n",
              "      <td>284.070923</td>\n",
              "    </tr>\n",
              "    <tr>\n",
              "      <th>2018-12-30 20:00:00</th>\n",
              "      <td>1031.0</td>\n",
              "      <td>347.016388</td>\n",
              "      <td>0.0</td>\n",
              "      <td>1807.223267</td>\n",
              "      <td>6.024676</td>\n",
              "      <td>7.574009</td>\n",
              "      <td>103369.320312</td>\n",
              "      <td>279.441376</td>\n",
              "      <td>0.774162</td>\n",
              "      <td>24040.613281</td>\n",
              "      <td>...</td>\n",
              "      <td>0.00</td>\n",
              "      <td>0.000742</td>\n",
              "      <td>0.000000</td>\n",
              "      <td>0.000000</td>\n",
              "      <td>0.000000</td>\n",
              "      <td>0.000000</td>\n",
              "      <td>5724.288086</td>\n",
              "      <td>1635.755005</td>\n",
              "      <td>253.731628</td>\n",
              "      <td>284.076691</td>\n",
              "    </tr>\n",
              "    <tr>\n",
              "      <th>2018-12-30 21:00:00</th>\n",
              "      <td>1031.0</td>\n",
              "      <td>348.243347</td>\n",
              "      <td>0.0</td>\n",
              "      <td>1807.652100</td>\n",
              "      <td>6.441942</td>\n",
              "      <td>9.536459</td>\n",
              "      <td>103380.078125</td>\n",
              "      <td>279.481567</td>\n",
              "      <td>0.768679</td>\n",
              "      <td>24042.025391</td>\n",
              "      <td>...</td>\n",
              "      <td>0.00</td>\n",
              "      <td>0.000937</td>\n",
              "      <td>0.000000</td>\n",
              "      <td>0.000000</td>\n",
              "      <td>0.000000</td>\n",
              "      <td>0.000000</td>\n",
              "      <td>5723.713867</td>\n",
              "      <td>1635.202026</td>\n",
              "      <td>253.642181</td>\n",
              "      <td>284.166443</td>\n",
              "    </tr>\n",
              "    <tr>\n",
              "      <th>2018-12-30 22:00:00</th>\n",
              "      <td>1031.0</td>\n",
              "      <td>343.525787</td>\n",
              "      <td>0.0</td>\n",
              "      <td>1797.279663</td>\n",
              "      <td>5.986426</td>\n",
              "      <td>8.741964</td>\n",
              "      <td>103421.250000</td>\n",
              "      <td>278.897247</td>\n",
              "      <td>0.778403</td>\n",
              "      <td>24038.234375</td>\n",
              "      <td>...</td>\n",
              "      <td>0.00</td>\n",
              "      <td>-0.000703</td>\n",
              "      <td>0.000000</td>\n",
              "      <td>0.000000</td>\n",
              "      <td>0.000000</td>\n",
              "      <td>0.000000</td>\n",
              "      <td>5724.727051</td>\n",
              "      <td>1637.305054</td>\n",
              "      <td>253.679871</td>\n",
              "      <td>284.074127</td>\n",
              "    </tr>\n",
              "    <tr>\n",
              "      <th>2018-12-30 23:00:00</th>\n",
              "      <td>1031.0</td>\n",
              "      <td>339.992493</td>\n",
              "      <td>0.0</td>\n",
              "      <td>1775.461182</td>\n",
              "      <td>5.929533</td>\n",
              "      <td>7.481382</td>\n",
              "      <td>103427.140625</td>\n",
              "      <td>278.581757</td>\n",
              "      <td>0.780921</td>\n",
              "      <td>24040.365234</td>\n",
              "      <td>...</td>\n",
              "      <td>0.00</td>\n",
              "      <td>0.000039</td>\n",
              "      <td>0.101562</td>\n",
              "      <td>0.000000</td>\n",
              "      <td>0.000000</td>\n",
              "      <td>0.101562</td>\n",
              "      <td>5723.558105</td>\n",
              "      <td>1637.697998</td>\n",
              "      <td>253.707443</td>\n",
              "      <td>283.651611</td>\n",
              "    </tr>\n",
              "  </tbody>\n",
              "</table>\n",
              "<p>8649 rows × 76 columns</p>\n",
              "</div>\n",
              "      <button class=\"colab-df-convert\" onclick=\"convertToInteractive('df-dc8b2527-e1b2-49fa-a730-e129c028d1bc')\"\n",
              "              title=\"Convert this dataframe to an interactive table.\"\n",
              "              style=\"display:none;\">\n",
              "        \n",
              "  <svg xmlns=\"http://www.w3.org/2000/svg\" height=\"24px\"viewBox=\"0 0 24 24\"\n",
              "       width=\"24px\">\n",
              "    <path d=\"M0 0h24v24H0V0z\" fill=\"none\"/>\n",
              "    <path d=\"M18.56 5.44l.94 2.06.94-2.06 2.06-.94-2.06-.94-.94-2.06-.94 2.06-2.06.94zm-11 1L8.5 8.5l.94-2.06 2.06-.94-2.06-.94L8.5 2.5l-.94 2.06-2.06.94zm10 10l.94 2.06.94-2.06 2.06-.94-2.06-.94-.94-2.06-.94 2.06-2.06.94z\"/><path d=\"M17.41 7.96l-1.37-1.37c-.4-.4-.92-.59-1.43-.59-.52 0-1.04.2-1.43.59L10.3 9.45l-7.72 7.72c-.78.78-.78 2.05 0 2.83L4 21.41c.39.39.9.59 1.41.59.51 0 1.02-.2 1.41-.59l7.78-7.78 2.81-2.81c.8-.78.8-2.07 0-2.86zM5.41 20L4 18.59l7.72-7.72 1.47 1.35L5.41 20z\"/>\n",
              "  </svg>\n",
              "      </button>\n",
              "      \n",
              "  <style>\n",
              "    .colab-df-container {\n",
              "      display:flex;\n",
              "      flex-wrap:wrap;\n",
              "      gap: 12px;\n",
              "    }\n",
              "\n",
              "    .colab-df-convert {\n",
              "      background-color: #E8F0FE;\n",
              "      border: none;\n",
              "      border-radius: 50%;\n",
              "      cursor: pointer;\n",
              "      display: none;\n",
              "      fill: #1967D2;\n",
              "      height: 32px;\n",
              "      padding: 0 0 0 0;\n",
              "      width: 32px;\n",
              "    }\n",
              "\n",
              "    .colab-df-convert:hover {\n",
              "      background-color: #E2EBFA;\n",
              "      box-shadow: 0px 1px 2px rgba(60, 64, 67, 0.3), 0px 1px 3px 1px rgba(60, 64, 67, 0.15);\n",
              "      fill: #174EA6;\n",
              "    }\n",
              "\n",
              "    [theme=dark] .colab-df-convert {\n",
              "      background-color: #3B4455;\n",
              "      fill: #D2E3FC;\n",
              "    }\n",
              "\n",
              "    [theme=dark] .colab-df-convert:hover {\n",
              "      background-color: #434B5C;\n",
              "      box-shadow: 0px 1px 3px 1px rgba(0, 0, 0, 0.15);\n",
              "      filter: drop-shadow(0px 1px 2px rgba(0, 0, 0, 0.3));\n",
              "      fill: #FFFFFF;\n",
              "    }\n",
              "  </style>\n",
              "\n",
              "      <script>\n",
              "        const buttonEl =\n",
              "          document.querySelector('#df-dc8b2527-e1b2-49fa-a730-e129c028d1bc button.colab-df-convert');\n",
              "        buttonEl.style.display =\n",
              "          google.colab.kernel.accessAllowed ? 'block' : 'none';\n",
              "\n",
              "        async function convertToInteractive(key) {\n",
              "          const element = document.querySelector('#df-dc8b2527-e1b2-49fa-a730-e129c028d1bc');\n",
              "          const dataTable =\n",
              "            await google.colab.kernel.invokeFunction('convertToInteractive',\n",
              "                                                     [key], {});\n",
              "          if (!dataTable) return;\n",
              "\n",
              "          const docLinkHtml = 'Like what you see? Visit the ' +\n",
              "            '<a target=\"_blank\" href=https://colab.research.google.com/notebooks/data_table.ipynb>data table notebook</a>'\n",
              "            + ' to learn more about interactive tables.';\n",
              "          element.innerHTML = '';\n",
              "          dataTable['output_type'] = 'display_data';\n",
              "          await google.colab.output.renderOutput(dataTable, element);\n",
              "          const docLink = document.createElement('div');\n",
              "          docLink.innerHTML = docLinkHtml;\n",
              "          element.appendChild(docLink);\n",
              "        }\n",
              "      </script>\n",
              "    </div>\n",
              "  </div>\n",
              "  "
            ]
          },
          "metadata": {},
          "execution_count": 4
        }
      ]
    },
    {
      "cell_type": "markdown",
      "source": [
        "**Observed pressure (mslp_o) Vs forecasted pressure from meteorological model point 0 (mslp00)**"
      ],
      "metadata": {
        "id": "vXx7Pvwmx1g3"
      }
    },
    {
      "cell_type": "code",
      "source": [
        "pd.concat([df_all1k[\"mslp_o\"],df_all1k[\"mslp0\"]/100],axis = 1)[0::24].plot(figsize = (18, 8),grid = True,);"
      ],
      "metadata": {
        "colab": {
          "base_uri": "https://localhost:8080/",
          "height": 389
        },
        "id": "xcTPWg1XwllZ",
        "outputId": "bf69d2e1-ec5f-4658-eda9-5471ddd5980e"
      },
      "execution_count": 5,
      "outputs": [
        {
          "output_type": "display_data",
          "data": {
            "text/plain": [
              "<Figure size 1296x576 with 1 Axes>"
            ],
            "image/png": "[encoded data removed]"
          },
          "metadata": {
            "needs_background": "light"
          }
        }
      ]
    },
    {
      "cell_type": "markdown",
      "source": [
        "**Meteorological model scores (Point 0)**"
      ],
      "metadata": {
        "id": "1Lwji_3AffES"
      }
    },
    {
      "cell_type": "code",
      "source": [
        "from sklearn.metrics import mean_absolute_error\n",
        "from sklearn.metrics import mean_squared_error\n",
        "from sklearn.metrics import r2_score\n",
        "from sklearn.metrics import median_absolute_error\n",
        "import seaborn as sns\n",
        "\n",
        "#Mean absolute error\n",
        "Mean_AE = round(mean_absolute_error(df_all1k[\"mslp_o\"], df_all1k[\"mslp0\"]/100),2)\n",
        "\n",
        "#MSE \n",
        "MSE = round(mean_squared_error(df_all1k[\"mslp_o\"], df_all1k[\"mslp0\"]/100),2)\n",
        "\n",
        "#R2\n",
        "R2 = round(r2_score(df_all1k[\"mslp_o\"], df_all1k[\"mslp0\"]/100),2)\n",
        "\n",
        "#Median absolute error\n",
        "Median_AE = round(median_absolute_error(df_all1k[\"mslp_o\"], df_all1k[\"mslp0\"]/100),2)\n",
        "\n",
        "\n",
        "#random seed 1\n",
        "np.random.seed(1)\n",
        "\n",
        "res = pd.concat([df_all1k[\"mslp_o\"],df_all1k[\"mslp0\"]/100],axis = 1)\n",
        "sns.set_theme(style=\"darkgrid\")\n",
        "g = sns.jointplot(x=\"mslp0\", y=\"mslp_o\", data=res.sample(100),\n",
        "                  kind=\"reg\", truncate=False,\n",
        "                  color=\"m\", height=7)\n",
        "\n",
        "print(pd.DataFrame({\"Mean_AE\":Mean_AE,\"MSE\":MSE,\"R2\":R2,\"Median_AE\":Median_AE},index=[\"results point 0\"]))\n"
      ],
      "metadata": {
        "colab": {
          "base_uri": "https://localhost:8080/",
          "height": 544
        },
        "id": "giwyzjm-zVbh",
        "outputId": "f299a9e6-6c70-4d70-f46e-77bac3e5eb5c"
      },
      "execution_count": 6,
      "outputs": [
        {
          "output_type": "stream",
          "name": "stdout",
          "text": [
            "                 Mean_AE   MSE    R2  Median_AE\n",
            "results point 0     1.29  2.74  0.96       1.03\n"
          ]
        },
        {
          "output_type": "display_data",
          "data": {
            "text/plain": [
              "<Figure size 504x504 with 3 Axes>"
            ],
            "image/png": "[encoded data removed]"
          },
          "metadata": {}
        }
      ]
    },
    {
      "cell_type": "markdown",
      "source": [
        "**Meteorological model scores (Point 1)**"
      ],
      "metadata": {
        "id": "lLKgtDBM0HTA"
      }
    },
    {
      "cell_type": "code",
      "source": [
        "\n",
        "#Mean absolute error\n",
        "Mean_AE = round(mean_absolute_error(df_all1k[\"mslp_o\"], df_all1k[\"mslp1\"]/100),2)\n",
        "\n",
        "#MSE \n",
        "MSE = round(mean_squared_error(df_all1k[\"mslp_o\"], df_all1k[\"mslp1\"]/100),2)\n",
        "\n",
        "#R2\n",
        "R2 = round(r2_score(df_all1k[\"mslp_o\"], df_all1k[\"mslp1\"]/100),2)\n",
        "\n",
        "#Median absolute error\n",
        "Median_AE = round(median_absolute_error(df_all1k[\"mslp_o\"], df_all1k[\"mslp1\"]/100),2)\n",
        "\n",
        "#random seed 1\n",
        "np.random.seed(1)\n",
        "\n",
        "res = pd.concat([df_all1k[\"mslp_o\"],df_all1k[\"mslp1\"]/100],axis = 1)\n",
        "sns.set_theme(style=\"darkgrid\")\n",
        "g = sns.jointplot(x=\"mslp1\", y=\"mslp_o\", data=res.sample(100),\n",
        "                  kind=\"reg\", truncate=False,\n",
        "                  color=\"m\", height=7)\n",
        "\n",
        "\n",
        "print(pd.DataFrame({\"Mean_AE\":Mean_AE,\"MSE\":MSE,\"R2\":R2,\"Median_AE\":Median_AE},index=[\"results point 1\"]))"
      ],
      "metadata": {
        "colab": {
          "base_uri": "https://localhost:8080/",
          "height": 544
        },
        "id": "Ig8J2qWT0Mys",
        "outputId": "b3d4fad5-35ff-4e03-c84b-ba1032e73ee2"
      },
      "execution_count": 7,
      "outputs": [
        {
          "output_type": "stream",
          "name": "stdout",
          "text": [
            "                 Mean_AE   MSE    R2  Median_AE\n",
            "results point 1     1.29  2.72  0.96       1.04\n"
          ]
        },
        {
          "output_type": "display_data",
          "data": {
            "text/plain": [
              "<Figure size 504x504 with 3 Axes>"
            ],
            "image/png": "[encoded data removed]"
          },
          "metadata": {}
        }
      ]
    },
    {
      "cell_type": "markdown",
      "source": [
        "**Meteorological model independent variables X**"
      ],
      "metadata": {
        "id": "uu6AJ_C51NXM"
      }
    },
    {
      "cell_type": "code",
      "source": [
        "df_all1k.iloc[:,1:].columns\n"
      ],
      "metadata": {
        "id": "RN6Ibn-t8l1o",
        "colab": {
          "base_uri": "https://localhost:8080/"
        },
        "outputId": "55945bba-5f84-41f2-c34e-23fa80081506"
      },
      "execution_count": 8,
      "outputs": [
        {
          "output_type": "execute_result",
          "data": {
            "text/plain": [
              "Index(['dir0', 'snow_prec0', 'snowlevel0', 'mod0', 'wind_gust0', 'mslp0',\n",
              "       'temp0', 'rh0', 'visibility0', 'lhflx0', 'lwflx0', 'conv_prec0',\n",
              "       'prec0', 'swflx0', 'shflx0', 'cape0', 'cin0', 'cfh0', 'cfl0', 'cfm0',\n",
              "       'cft0', 'HGT5000', 'HGT8500', 'T5000', 'T8500', 'dir1', 'snow_prec1',\n",
              "       'snowlevel1', 'mod1', 'wind_gust1', 'mslp1', 'temp1', 'rh1',\n",
              "       'visibility1', 'lhflx1', 'lwflx1', 'conv_prec1', 'prec1', 'swflx1',\n",
              "       'shflx1', 'cape1', 'cin1', 'cfh1', 'cfl1', 'cfm1', 'cft1', 'HGT5001',\n",
              "       'HGT8501', 'T5001', 'T8501', 'dir2', 'snow_prec2', 'snowlevel2', 'mod2',\n",
              "       'wind_gust2', 'mslp2', 'temp2', 'rh2', 'visibility2', 'lhflx2',\n",
              "       'lwflx2', 'conv_prec2', 'prec2', 'swflx2', 'shflx2', 'cape2', 'cin2',\n",
              "       'cfh2', 'cfl2', 'cfm2', 'cft2', 'HGT5002', 'HGT8502', 'T5002', 'T8502'],\n",
              "      dtype='object')"
            ]
          },
          "metadata": {},
          "execution_count": 8
        }
      ]
    },
    {
      "cell_type": "markdown",
      "source": [
        "**Find ML algorithm**"
      ],
      "metadata": {
        "id": "ChfMtedU1i6z"
      }
    },
    {
      "cell_type": "code",
      "source": [
        "from sklearn.model_selection import train_test_split\n",
        "import lazypredict\n",
        "from lazypredict.Supervised import LazyRegressor\n",
        "\n",
        "# X and Y\n",
        "Y = df_all1k[\"mslp_o\"]\n",
        "X = df_all1k.iloc[:,1:]\n",
        "\n",
        "\n",
        "X_train, X_test, y_train, y_test = train_test_split(X,Y, test_size=0.2, )\n",
        "\n",
        "\n",
        "multiple_model = LazyRegressor(verbose =0, ignore_warnings = True,predictions=True)\n",
        "models,predictions = multiple_model.fit(X_train,X_test,y_train,y_test)"
      ],
      "metadata": {
        "id": "yDXLnryb71O1"
      },
      "execution_count": null,
      "outputs": []
    },
    {
      "cell_type": "code",
      "source": [
        "models"
      ],
      "metadata": {
        "id": "UOjWiLjS_zvi"
      },
      "execution_count": null,
      "outputs": []
    },
    {
      "cell_type": "markdown",
      "source": [
        "**LGBMRegressor (y_test from lazypredict)**"
      ],
      "metadata": {
        "id": "GLB6qlndgjob"
      }
    },
    {
      "cell_type": "code",
      "source": [
        "Mean_AE = round(mean_absolute_error(y_test, predictions.LGBMRegressor),2)\n",
        "MSE = round(mean_squared_error(y_test, predictions.LGBMRegressor),2)\n",
        "R2 = round(r2_score(y_test, predictions.LGBMRegressor),2)\n",
        "Median_AE = round(median_absolute_error(y_test, predictions.LGBMRegressor),2)\n",
        "\n",
        "print(pd.DataFrame({\"Mean_AE\":Mean_AE,\"MSE\":MSE,\"R2\":R2,\"Median_AE\":Median_AE},index=[\"results LGBMRegressor\"]))\n",
        "\n"
      ],
      "metadata": {
        "colab": {
          "base_uri": "https://localhost:8080/"
        },
        "id": "UdxLyqh8ARgH",
        "outputId": "e0616f30-2812-457b-b060-98d1a3922ac3"
      },
      "execution_count": null,
      "outputs": [
        {
          "output_type": "stream",
          "name": "stdout",
          "text": [
            "                       Mean_AE  MSE   R2  Median_AE\n",
            "results LGBMRegressor     0.55 0.51 0.99       0.45\n"
          ]
        }
      ]
    },
    {
      "cell_type": "markdown",
      "source": [
        "**ExtraTreesRegressor (y_test from lazypredict)**"
      ],
      "metadata": {
        "id": "CrCi7JXsg22q"
      }
    },
    {
      "cell_type": "code",
      "source": [
        "Mean_AE = round(mean_absolute_error(y_test, predictions.ExtraTreesRegressor),2)\n",
        "MSE = round(mean_squared_error(y_test, predictions.ExtraTreesRegressor),2)\n",
        "R2 = round(r2_score(y_test, predictions.ExtraTreesRegressor),2)\n",
        "Median_AE = round(median_absolute_error(y_test, predictions.ExtraTreesRegressor),2)\n",
        "\n",
        "print(pd.DataFrame({\"Mean_AE\":Mean_AE,\"MSE\":MSE,\"R2\":R2,\"Median_AE\":Median_AE},index=[\"results ExtraTreesRegressor\"]))"
      ],
      "metadata": {
        "colab": {
          "base_uri": "https://localhost:8080/"
        },
        "id": "v_1CrEyPg9t4",
        "outputId": "5d6af77a-2cea-4bea-91df-cc7ae0b54d30"
      },
      "execution_count": null,
      "outputs": [
        {
          "output_type": "stream",
          "name": "stdout",
          "text": [
            "                             Mean_AE  MSE   R2  Median_AE\n",
            "results ExtraTreesRegressor     0.51 0.46 0.99       0.39\n"
          ]
        }
      ]
    },
    {
      "cell_type": "markdown",
      "source": [
        "**lgbmregressor ML algorithm selected**"
      ],
      "metadata": {
        "id": "39WWhfb66PSv"
      }
    },
    {
      "cell_type": "code",
      "source": [
        "from lightgbm.sklearn import LGBMRegressor\n",
        "from sklearn.model_selection import train_test_split\n",
        "\n",
        "#random seed 1\n",
        "np.random.seed(1)\n",
        "\n",
        "# X and Y\n",
        "Y = df_all1k.mslp_o\n",
        "X = df_all1k.iloc[:,1:]\n",
        "\n",
        "# loop random\n",
        "Median_AE_ml = []\n",
        "Mean_AE_ml =[]\n",
        "MSE_ml = []\n",
        "R2_ml = []\n",
        "\n",
        "#20 samples to test algorithm\n",
        "for t in range (0,5):\n",
        "  #split variables\n",
        "  X_train, X_test, y_train, y_test = train_test_split(X,Y, test_size=0.15, )\n",
        "\n",
        "  #machine learning model\n",
        "  ml_model = LGBMRegressor().fit(X_train,y_train)\n",
        "  y_pred = ml_model.predict(X_test)\n",
        "  \n",
        "  #Score calculation\n",
        "  Mean_AE_ml.append(round(mean_absolute_error(y_test, y_pred),2))\n",
        "  Median_AE_ml.append(round(median_absolute_error(y_test, y_pred),2))\n",
        "  MSE_ml.append (round(mean_squared_error(y_test, y_pred),2))\n",
        "  R2_ml.append(round(r2_score(y_test, y_pred),2))\n",
        "  \n",
        "  \n",
        "print(pd.DataFrame({\"Median_AE\":Median_AE_ml,\" Mean_AE\":Mean_AE_ml,\"MSE\":MSE_ml,\"R2\":R2_ml}))"
      ],
      "metadata": {
        "colab": {
          "base_uri": "https://localhost:8080/"
        },
        "id": "AmaGouiY4907",
        "outputId": "7f2682a3-8156-443c-944f-db68574084cf"
      },
      "execution_count": 9,
      "outputs": [
        {
          "output_type": "stream",
          "name": "stdout",
          "text": [
            "   Median_AE   Mean_AE   MSE    R2\n",
            "0       0.55      0.70  0.88  0.99\n",
            "1       0.52      0.66  0.80  0.99\n",
            "2       0.55      0.69  0.85  0.99\n",
            "3       0.53      0.67  0.77  0.99\n",
            "4       0.52      0.67  0.82  0.99\n"
          ]
        }
      ]
    },
    {
      "cell_type": "markdown",
      "source": [
        "**T test (1sample) compare machine learning median absolute error in a sample (n=\n",
        "5) versus meteorological model median absolute error at point 0 (1) and at point 1 (1). the alternative hypothesis is: the mean of the underlying distribution of the sample is less than the given population mean (popmean). Significance level (alpha) = 0.01**"
      ],
      "metadata": {
        "id": "3j5DH1765--U"
      }
    },
    {
      "cell_type": "code",
      "source": [
        "from scipy import stats\n",
        "\n",
        "alpha = 0.01\n",
        "sta0, p_value0 = stats.ttest_1samp(Median_AE_ml, popmean=1, alternative=\"less\")\n",
        "sta1, p_value1 = stats.ttest_1samp(Median_AE_ml, popmean=1, alternative=\"less\")\n",
        "\n",
        "print(\"\\nalpha: \",alpha)\n",
        "\n",
        "print(\"\\nMedian Absolute error list from machine learning test:\",Median_AE_ml)\n",
        "print(\"\\n**** Point 0 ****\")\n",
        "print(\"\\np_value point 0:\",p_value0)\n",
        "if p_value0 < alpha:    \n",
        "    print(\"\\nwe are rejecting null hypothesis  H0: Median Absolute Error machine learning = Median Absolute Error meteorological model point 0\")\n",
        "    print(\"\\nwe are accepting alternative hypothesis: Median Absolute Error machine learning is less than Median Absolute Error meteorological point 0\")\n",
        "else:\n",
        "    print(\"\\nwe are accepting null hypothesis:  H0:  Median Absolute Error machine learning = Median Absolute Error meteorological model point 0 \")\n",
        "\n",
        "print(\"\\n**** Point 1 ****\")\n",
        "print(\"\\np value point 1:\",p_value1 )\n",
        "if p_value1 < alpha:    \n",
        "    print(\"\\nwe are rejecting null hypothesis  H0: Median Absolute Error machine learning = Median Absolute Error meteorological model point 1\")\n",
        "    print(\"\\nwe are accepting alternative hypothesis: Median Absolute Error machine learning is less than Median Absolute Error meteorological point 1\")\n",
        "else:\n",
        "    print(\"\\nwe are accepting null hypothesis:  H0  Median Absolute Error machine learning = Median Absolute Error meteorological model point 1\")"
      ],
      "metadata": {
        "colab": {
          "base_uri": "https://localhost:8080/"
        },
        "id": "Rsrp3_FM6Uea",
        "outputId": "dafa042b-0d54-4a29-88d4-d8d714f9aedb"
      },
      "execution_count": 10,
      "outputs": [
        {
          "output_type": "stream",
          "name": "stdout",
          "text": [
            "\n",
            "alpha:  0.01\n",
            "\n",
            "Median Absolute error list from machine learning test: [0.55, 0.52, 0.55, 0.53, 0.52]\n",
            "\n",
            "**** Point 0 ****\n",
            "\n",
            "p_value point 0: 1.3442504532945507e-07\n",
            "\n",
            "we are rejecting null hypothesis  H0: Median Absolute Error machine learning = Median Absolute Error meteorological model point 0\n",
            "\n",
            "we are accepting alternative hypothesis: Median Absolute Error machine learning is less than Median Absolute Error meteorological point 0\n",
            "\n",
            "**** Point 1 ****\n",
            "\n",
            "p value point 1: 1.3442504532945507e-07\n",
            "\n",
            "we are rejecting null hypothesis  H0: Median Absolute Error machine learning = Median Absolute Error meteorological model point 1\n",
            "\n",
            "we are accepting alternative hypothesis: Median Absolute Error machine learning is less than Median Absolute Error meteorological point 1\n"
          ]
        }
      ]
    },
    {
      "cell_type": "markdown",
      "source": [
        "**Add time variables**"
      ],
      "metadata": {
        "id": "3LB7ooEm7KY7"
      }
    },
    {
      "cell_type": "code",
      "source": [
        "df_all1k[\"hour\"] = df_all1k.index.hour\n",
        "df_all1k[\"month\"] = df_all1k.index.month\n",
        "df_all1k[\"dayofyear\"] = df_all1k.index.dayofyear\n",
        "df_all1k[\"weekofyear\"] = df_all1k.index.isocalendar().week.astype(int)"
      ],
      "metadata": {
        "id": "53SehPaetF9j"
      },
      "execution_count": 11,
      "outputs": []
    },
    {
      "cell_type": "markdown",
      "source": [
        "**Machine learning with time variables**"
      ],
      "metadata": {
        "id": "-hXqalG-8edT"
      }
    },
    {
      "cell_type": "markdown",
      "source": [
        " **X variables**"
      ],
      "metadata": {
        "id": "xsz1bScg8ILz"
      }
    },
    {
      "cell_type": "code",
      "source": [
        " df_all1k.iloc[:,1:].columns"
      ],
      "metadata": {
        "colab": {
          "base_uri": "https://localhost:8080/"
        },
        "id": "jQ0o2l828Q_a",
        "outputId": "9ce8d0d4-e9b6-449a-bcfe-5c598ba37589"
      },
      "execution_count": 12,
      "outputs": [
        {
          "output_type": "execute_result",
          "data": {
            "text/plain": [
              "Index(['dir0', 'snow_prec0', 'snowlevel0', 'mod0', 'wind_gust0', 'mslp0',\n",
              "       'temp0', 'rh0', 'visibility0', 'lhflx0', 'lwflx0', 'conv_prec0',\n",
              "       'prec0', 'swflx0', 'shflx0', 'cape0', 'cin0', 'cfh0', 'cfl0', 'cfm0',\n",
              "       'cft0', 'HGT5000', 'HGT8500', 'T5000', 'T8500', 'dir1', 'snow_prec1',\n",
              "       'snowlevel1', 'mod1', 'wind_gust1', 'mslp1', 'temp1', 'rh1',\n",
              "       'visibility1', 'lhflx1', 'lwflx1', 'conv_prec1', 'prec1', 'swflx1',\n",
              "       'shflx1', 'cape1', 'cin1', 'cfh1', 'cfl1', 'cfm1', 'cft1', 'HGT5001',\n",
              "       'HGT8501', 'T5001', 'T8501', 'dir2', 'snow_prec2', 'snowlevel2', 'mod2',\n",
              "       'wind_gust2', 'mslp2', 'temp2', 'rh2', 'visibility2', 'lhflx2',\n",
              "       'lwflx2', 'conv_prec2', 'prec2', 'swflx2', 'shflx2', 'cape2', 'cin2',\n",
              "       'cfh2', 'cfl2', 'cfm2', 'cft2', 'HGT5002', 'HGT8502', 'T5002', 'T8502',\n",
              "       'hour', 'month', 'dayofyear', 'weekofyear'],\n",
              "      dtype='object')"
            ]
          },
          "metadata": {},
          "execution_count": 12
        }
      ]
    },
    {
      "cell_type": "code",
      "source": [
        "#random seed 1\n",
        "np.random.seed(1)\n",
        "\n",
        "# X and Y\n",
        "Y = df_all1k.mslp_o\n",
        "X = df_all1k.iloc[:,1:]\n",
        "\n",
        "# loop random\n",
        "Median_AE_ml_t = []\n",
        "Mean_AE_ml_t =[]\n",
        "MSE_ml_t = []\n",
        "R2_ml_t = []\n",
        "\n",
        "#20 samples to test algorithm\n",
        "for t in range (0,5):\n",
        "  #split variables\n",
        "  X_train, X_test, y_train, y_test = train_test_split(X,Y, test_size=0.15, )\n",
        "\n",
        "  #machine learning model\n",
        "  ml_model = LGBMRegressor().fit(X_train,y_train)\n",
        "  y_pred = ml_model.predict(X_test)\n",
        "  \n",
        "  #Score calculation\n",
        "  Mean_AE_ml_t.append(round(mean_absolute_error(y_test, y_pred),2))\n",
        "  Median_AE_ml_t.append(round(median_absolute_error(y_test, y_pred),2))\n",
        "  MSE_ml_t.append (round(mean_squared_error(y_test, y_pred),2))\n",
        "  R2_ml_t.append(round(r2_score(y_test, y_pred),2))\n",
        "  \n",
        "  \n",
        "print(pd.DataFrame({\"Median_AE\":Median_AE_ml_t,\" Mean_AE\":Mean_AE_ml_t,\"MSE\":MSE_ml_t,\"R2\":R2_ml_t}))"
      ],
      "metadata": {
        "colab": {
          "base_uri": "https://localhost:8080/"
        },
        "id": "XXKcR59T71M8",
        "outputId": "3b417b08-49e4-43ec-e168-200cb9ce1d69"
      },
      "execution_count": 13,
      "outputs": [
        {
          "output_type": "stream",
          "name": "stdout",
          "text": [
            "   Median_AE   Mean_AE   MSE    R2\n",
            "0       0.48      0.62  0.67  0.99\n",
            "1       0.48      0.59  0.62  0.99\n",
            "2       0.48      0.61  0.65  0.99\n",
            "3       0.48      0.59  0.57  0.99\n",
            "4       0.49      0.60  0.65  0.99\n"
          ]
        }
      ]
    },
    {
      "cell_type": "code",
      "source": [
        "feature_importances = ml_model.feature_importances_\n",
        "total_sum = sum(feature_importances)\n",
        "feature_importances_perc = [(importance/total_sum)*100 for importance in feature_importances]\n",
        "# Print the feature importances as a percentage of total feature importance\n",
        "\n",
        "for name, importance in zip(X.columns, feature_importances_perc):\n",
        "    print(f\"{name}: {importance:.1f}%\")"
      ],
      "metadata": {
        "id": "Z3u6Ab6JUkZd",
        "outputId": "db02583d-dfa6-47ee-8e39-3f6c52bcd301",
        "colab": {
          "base_uri": "https://localhost:8080/"
        }
      },
      "execution_count": 14,
      "outputs": [
        {
          "output_type": "stream",
          "name": "stdout",
          "text": [
            "dir0: 1.3%\n",
            "snow_prec0: 0.0%\n",
            "snowlevel0: 1.2%\n",
            "mod0: 1.8%\n",
            "wind_gust0: 1.4%\n",
            "mslp0: 3.1%\n",
            "temp0: 1.1%\n",
            "rh0: 0.7%\n",
            "visibility0: 1.4%\n",
            "lhflx0: 0.4%\n",
            "lwflx0: 1.1%\n",
            "conv_prec0: 0.5%\n",
            "prec0: 1.0%\n",
            "swflx0: 0.2%\n",
            "shflx0: 1.0%\n",
            "cape0: 0.8%\n",
            "cin0: 0.5%\n",
            "cfh0: 0.5%\n",
            "cfl0: 0.5%\n",
            "cfm0: 0.3%\n",
            "cft0: 0.4%\n",
            "HGT5000: 1.8%\n",
            "HGT8500: 3.8%\n",
            "T5000: 1.5%\n",
            "T8500: 1.5%\n",
            "dir1: 1.3%\n",
            "snow_prec1: 0.0%\n",
            "snowlevel1: 1.3%\n",
            "mod1: 1.2%\n",
            "wind_gust1: 1.9%\n",
            "mslp1: 5.3%\n",
            "temp1: 0.4%\n",
            "rh1: 1.2%\n",
            "visibility1: 1.2%\n",
            "lhflx1: 0.4%\n",
            "lwflx1: 1.5%\n",
            "conv_prec1: 0.4%\n",
            "prec1: 1.2%\n",
            "swflx1: 0.2%\n",
            "shflx1: 1.0%\n",
            "cape1: 1.0%\n",
            "cin1: 0.7%\n",
            "cfh1: 0.7%\n",
            "cfl1: 1.0%\n",
            "cfm1: 0.7%\n",
            "cft1: 0.4%\n",
            "HGT5001: 1.0%\n",
            "HGT8501: 2.9%\n",
            "T5001: 1.8%\n",
            "T8501: 1.9%\n",
            "dir2: 2.0%\n",
            "snow_prec2: 0.0%\n",
            "snowlevel2: 1.0%\n",
            "mod2: 1.0%\n",
            "wind_gust2: 1.4%\n",
            "mslp2: 2.8%\n",
            "temp2: 0.7%\n",
            "rh2: 1.1%\n",
            "visibility2: 1.2%\n",
            "lhflx2: 0.5%\n",
            "lwflx2: 1.7%\n",
            "conv_prec2: 0.2%\n",
            "prec2: 0.7%\n",
            "swflx2: 0.2%\n",
            "shflx2: 1.1%\n",
            "cape2: 0.8%\n",
            "cin2: 0.5%\n",
            "cfh2: 0.5%\n",
            "cfl2: 0.6%\n",
            "cfm2: 0.6%\n",
            "cft2: 0.6%\n",
            "HGT5002: 0.8%\n",
            "HGT8502: 1.9%\n",
            "T5002: 1.6%\n",
            "T8502: 1.4%\n",
            "hour: 2.1%\n",
            "month: 1.4%\n",
            "dayofyear: 12.0%\n",
            "weekofyear: 0.9%\n"
          ]
        }
      ]
    },
    {
      "cell_type": "markdown",
      "source": [
        "**T test two related samples. This is a test for the null hypothesis that two related samples have identical Median Absolute Error. Alternative hypothesis the Median Absolute Error of the distribution underlying the sample with time variables is less than the Median Absolute Error of the distribution underlying the sample without time variables. Significance level (alpha) = 0.01**"
      ],
      "metadata": {
        "id": "-uQb1jDO84oc"
      }
    },
    {
      "cell_type": "code",
      "source": [
        "from scipy import stats\n",
        "\n",
        "alpha = 0.01\n",
        "sta, p_value = stats.ttest_rel(Median_AE_ml_t, Median_AE_ml, alternative=\"less\")\n",
        "\n",
        "print(\"\\nMedian absolute error without time variables:\", Median_AE_ml)\n",
        "print(\"\\nMedian absolute error with time variables:\", Median_AE_ml_t)\n",
        "\n",
        "print(\"\\nalpha: \",alpha)\n",
        "\n",
        "print(\"\\np_value point: \",p_value)\n",
        "if p_value < alpha:    \n",
        "    print(\"\\nwe are rejecting null hypothesis  H0: Median absolute error machine learning without time variables = Median absolute error machine learning with time variables\")\n",
        "    print(\"\\nwe are accepting alternative hypothesis: Median absolute error of the sample with time variables inputs is less than the Median absolute error of the sample without time variables inputs\")\n",
        "else:\n",
        "    print(\"\\nwe are accepting null hypothesis:  H0: Median absolute error machine learning without time variables = Median absolute error machine learning with time variables\")\n",
        "     "
      ],
      "metadata": {
        "colab": {
          "base_uri": "https://localhost:8080/"
        },
        "id": "_AW7s4T19JEO",
        "outputId": "553bc933-1178-4c39-ddb9-2533ccfdfa51"
      },
      "execution_count": 15,
      "outputs": [
        {
          "output_type": "stream",
          "name": "stdout",
          "text": [
            "\n",
            "Median absolute error without time variables: [0.55, 0.52, 0.55, 0.53, 0.52]\n",
            "\n",
            "Median absolute error with time variables: [0.48, 0.48, 0.48, 0.48, 0.49]\n",
            "\n",
            "alpha:  0.01\n",
            "\n",
            "p_value point:  0.0014450035585503672\n",
            "\n",
            "we are rejecting null hypothesis  H0: Median absolute error machine learning without time variables = Median absolute error machine learning with time variables\n",
            "\n",
            "we are accepting alternative hypothesis: Median absolute error of the sample with time variables inputs is less than the Median absolute error of the sample without time variables inputs\n"
          ]
        }
      ]
    },
    {
      "cell_type": "markdown",
      "source": [
        "**Save algorithm**"
      ],
      "metadata": {
        "id": "owVD0zsI_1JD"
      }
    },
    {
      "cell_type": "code",
      "source": [
        "import pickle\n",
        "from sklearn.pipeline import Pipeline\n",
        "\n",
        "x_var = df_all1k.iloc[:,1:].columns\n",
        "estimators = [('ml_model', ml_model)]\n",
        "pipe = Pipeline(estimators)\n",
        "print(pipe)\n",
        "al_file={\"x_var\":x_var,\"coor\":coor,\"pipe\":pipe}\n",
        "pickle.dump(al_file, open(\"pres_LEPP_d1.al\", 'wb'))"
      ],
      "metadata": {
        "colab": {
          "base_uri": "https://localhost:8080/"
        },
        "id": "ZXM71i31__XS",
        "outputId": "9013e6dc-23f5-4dc3-fde4-f0b80000445d"
      },
      "execution_count": 16,
      "outputs": [
        {
          "output_type": "stream",
          "name": "stdout",
          "text": [
            "Pipeline(steps=[('ml_model', LGBMRegressor())])\n"
          ]
        }
      ]
    }
  ]
}