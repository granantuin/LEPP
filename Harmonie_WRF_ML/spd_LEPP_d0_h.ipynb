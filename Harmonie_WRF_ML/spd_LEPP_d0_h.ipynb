{
  "nbformat": 4,
  "nbformat_minor": 0,
  "metadata": {
    "colab": {
      "provenance": []
    },
    "kernelspec": {
      "name": "python3",
      "display_name": "Python 3"
    },
    "language_info": {
      "name": "python"
    }
  },
  "cells": [
    {
      "cell_type": "code",
      "source": [
        "!pip install -r \"/content/drive/MyDrive/Colab Notebooks/LEVX_1km/requirements.txt\""
      ],
      "metadata": {
        "id": "EdGOq9bNcIsN"
      },
      "execution_count": null,
      "outputs": []
    },
    {
      "cell_type": "code",
      "source": [
        "!pip install lazypredict"
      ],
      "metadata": {
        "id": "Z5pVd9re32fK"
      },
      "execution_count": null,
      "outputs": []
    },
    {
      "cell_type": "code",
      "source": [
        "import plotly.express as px\n",
        "import pandas as pd\n",
        "import numpy as np\n",
        "coor=pd.read_csv(\"/content/drive/MyDrive/Colab Notebooks/LEPP/input_files/distan_lat42.77lon-1.647p3R12Km.csv\")\n",
        "px.set_mapbox_access_token(\"pk.eyJ1IjoiZ3JhbmFudHVpbiIsImEiOiJja3B4dGU4OTkwMTFmMm9ycnNhMjJvaGJqIn0.VWzx_PkD9A5cSUVsn_ijCA\")\n",
        "px.scatter_mapbox(coor, hover_data=['distance'],lat='lat', lon='lon',color='distance', title=\"Nearest points\",\n",
        "                           color_continuous_scale=px.colors.cyclical.IceFire,)"
      ],
      "metadata": {
        "id": "L5ZGyKtdklV4"
      },
      "execution_count": null,
      "outputs": []
    },
    {
      "cell_type": "code",
      "source": [
        "import pandas as pd\n",
        "from scipy.stats import shapiro\n",
        "\n",
        "\n",
        "station = pd.read_csv(\"/content/drive/MyDrive/Colab Notebooks/LEPP/Harmonie_vs_WRF/LEPPY20211201Y20230315.csv\",\n",
        "                          usecols = [\"time\",\"spd_o\"],\n",
        "                          parse_dates=[\"time\"]).set_index(\"time\")\n",
        "\n",
        "#Shapiro test normality\n",
        "print(\"Shapiro test normality\")\n",
        "sta, p = shapiro(station.spd_o.sample(500))\n",
        "\n",
        "print(\"\\np value:\",p)\n",
        "#significance level alpha=0.01\n",
        "alpha = 0.01\n",
        "if p>alpha:\n",
        "  print(\"Accept null hypothesis: normal distribution speed variable\\n\")\n",
        "else:\n",
        "  print(\"Reject null Hypothesis. Alternative hypothesis variable no normal distribution speed variable\\n\")  \n",
        "\n",
        "station[\"spd_o\"].describe()"
      ],
      "metadata": {
        "id": "OEX1x76AU35s",
        "colab": {
          "base_uri": "https://localhost:8080/"
        },
        "outputId": "793f5335-8949-43cb-ed5e-29867a886e13"
      },
      "execution_count": 1,
      "outputs": [
        {
          "output_type": "stream",
          "name": "stdout",
          "text": [
            "Shapiro test normality\n",
            "\n",
            "p value: 3.2259043331899135e-16\n",
            "Reject null Hypothesis. Alternative hypothesis variable no normal distribution speed variable\n",
            "\n"
          ]
        },
        {
          "output_type": "execute_result",
          "data": {
            "text/plain": [
              "count    22788.000000\n",
              "mean         2.983608\n",
              "std          2.602951\n",
              "min          0.000000\n",
              "25%          1.028888\n",
              "50%          2.057776\n",
              "75%          4.629996\n",
              "max         17.491096\n",
              "Name: spd_o, dtype: float64"
            ]
          },
          "metadata": {},
          "execution_count": 1
        }
      ]
    },
    {
      "cell_type": "markdown",
      "source": [
        "**Forecast D0**"
      ],
      "metadata": {
        "id": "eXs3F5ZTnQ8M"
      }
    },
    {
      "cell_type": "code",
      "source": [
        "#forecast d0\n",
        "model1k = pd.read_excel(\"/content/drive/MyDrive/Colab Notebooks/LEPP/Harmonie_vs_WRF/lpp_h.xlsx\",parse_dates=[\"time\"]).set_index(\"time\")\n",
        "model1k"
      ],
      "metadata": {
        "id": "o5ZTRduTZ36H",
        "colab": {
          "base_uri": "https://localhost:8080/",
          "height": 866
        },
        "outputId": "71c062ce-7a65-4f2c-eaf1-f09e15cc9c5e"
      },
      "execution_count": 3,
      "outputs": [
        {
          "output_type": "execute_result",
          "data": {
            "text/plain": [
              "                       dir0  snow_prec0  isocero0  mod0  racha_u0  racha_v0  \\\n",
              "time                                                                          \n",
              "2021-12-01 00:00:00    6.70           0   1748.98  0.65     -0.07     -0.86   \n",
              "2021-12-01 01:00:00  309.52           0   1863.92  0.65      0.68     -0.52   \n",
              "2021-12-01 02:00:00  177.09           0   1971.57  0.18     -0.03      0.30   \n",
              "2021-12-01 03:00:00  134.49           0   2043.07  0.26     -0.29      0.27   \n",
              "2021-12-01 04:00:00  219.52           0   1977.76  0.12      0.15      0.20   \n",
              "...                     ...         ...       ...   ...       ...       ...   \n",
              "2023-03-15 19:00:00  195.01           0   2262.41  1.82      0.52      2.29   \n",
              "2023-03-15 20:00:00  198.36           0   2294.07  1.57      0.58      1.98   \n",
              "2023-03-15 21:00:00  175.57           0   2328.54  0.81     -0.13      1.09   \n",
              "2023-03-15 22:00:00  147.90           0   2384.49  1.23     -0.91      1.33   \n",
              "2023-03-15 23:00:00  122.92           0   2405.49  1.01     -1.12      0.67   \n",
              "\n",
              "                        mslp0   temp0   rh0  visibility0  ...     cape1  \\\n",
              "time                                                      ...             \n",
              "2021-12-01 00:00:00  96843.00  275.42  0.91      9961.89  ... -18027.54   \n",
              "2021-12-01 01:00:00  96750.50  275.26  0.91     10342.69  ... -18224.88   \n",
              "2021-12-01 02:00:00  96660.34  275.17  0.90     10627.18  ... -18260.63   \n",
              "2021-12-01 03:00:00  96581.60  275.10  0.90     10826.18  ... -18138.61   \n",
              "2021-12-01 04:00:00  96510.55  275.07  0.90     11224.13  ... -18171.24   \n",
              "...                       ...     ...   ...          ...  ...       ...   \n",
              "2023-03-15 19:00:00  96065.20  284.65  0.72     23099.84  ... -11743.16   \n",
              "2023-03-15 20:00:00  96067.14  283.15  0.77     19987.88  ... -13019.14   \n",
              "2023-03-15 21:00:00  96069.27  282.06  0.82     16854.59  ... -13923.57   \n",
              "2023-03-15 22:00:00  96085.00  281.39  0.78     19277.87  ... -14860.39   \n",
              "2023-03-15 23:00:00  96085.00  280.63  0.77     20169.39  ... -15436.66   \n",
              "\n",
              "                       cin1  cfh1  cfl1  cfm1  cft1   HGT5001   HGT8501  \\\n",
              "time                                                                      \n",
              "2021-12-01 00:00:00  5802.0  0.65  0.00   0.0  0.65  55832.66  15091.41   \n",
              "2021-12-01 01:00:00  5800.0  0.42  0.00   0.0  0.42  55754.09  15013.80   \n",
              "2021-12-01 02:00:00  5800.0  0.13  0.01   0.0  0.13  55648.93  14939.99   \n",
              "2021-12-01 03:00:00  5798.0  0.01  0.18   0.0  0.18  55561.82  14880.32   \n",
              "2021-12-01 04:00:00  6096.0  0.14  0.03   0.0  0.17  55478.26  14815.40   \n",
              "...                     ...   ...   ...   ...   ...       ...       ...   \n",
              "2023-03-15 19:00:00  9157.0  0.02  0.00   0.0  0.02  56117.12  14709.41   \n",
              "2023-03-15 20:00:00  8112.0  0.01  0.00   0.0  0.01  56144.04  14712.13   \n",
              "2023-03-15 21:00:00  7226.0  0.13  0.00   0.0  0.13  56153.93  14710.62   \n",
              "2023-03-15 22:00:00  6836.0  0.65  0.00   0.0  0.65  56140.22  14720.81   \n",
              "2023-03-15 23:00:00  6476.0  0.01  0.00   0.0  0.01  56119.93  14718.72   \n",
              "\n",
              "                      T5001   T8501  \n",
              "time                                 \n",
              "2021-12-01 00:00:00  254.48  276.39  \n",
              "2021-12-01 01:00:00  254.32  276.41  \n",
              "2021-12-01 02:00:00  254.30  276.38  \n",
              "2021-12-01 03:00:00  254.31  276.61  \n",
              "2021-12-01 04:00:00  254.30  276.69  \n",
              "...                     ...     ...  \n",
              "2023-03-15 19:00:00  257.48  284.47  \n",
              "2023-03-15 20:00:00  257.61  284.55  \n",
              "2023-03-15 21:00:00  257.47  284.30  \n",
              "2023-03-15 22:00:00  257.65  283.70  \n",
              "2023-03-15 23:00:00  257.13  283.83  \n",
              "\n",
              "[11280 rows x 52 columns]"
            ],
            "text/html": [
              "\n",
              "  <div id=\"df-96fccfcb-d364-4c61-8d2a-9386daa65572\">\n",
              "    <div class=\"colab-df-container\">\n",
              "      <div>\n",
              "<style scoped>\n",
              "    .dataframe tbody tr th:only-of-type {\n",
              "        vertical-align: middle;\n",
              "    }\n",
              "\n",
              "    .dataframe tbody tr th {\n",
              "        vertical-align: top;\n",
              "    }\n",
              "\n",
              "    .dataframe thead th {\n",
              "        text-align: right;\n",
              "    }\n",
              "</style>\n",
              "<table border=\"1\" class=\"dataframe\">\n",
              "  <thead>\n",
              "    <tr style=\"text-align: right;\">\n",
              "      <th></th>\n",
              "      <th>dir0</th>\n",
              "      <th>snow_prec0</th>\n",
              "      <th>isocero0</th>\n",
              "      <th>mod0</th>\n",
              "      <th>racha_u0</th>\n",
              "      <th>racha_v0</th>\n",
              "      <th>mslp0</th>\n",
              "      <th>temp0</th>\n",
              "      <th>rh0</th>\n",
              "      <th>visibility0</th>\n",
              "      <th>...</th>\n",
              "      <th>cape1</th>\n",
              "      <th>cin1</th>\n",
              "      <th>cfh1</th>\n",
              "      <th>cfl1</th>\n",
              "      <th>cfm1</th>\n",
              "      <th>cft1</th>\n",
              "      <th>HGT5001</th>\n",
              "      <th>HGT8501</th>\n",
              "      <th>T5001</th>\n",
              "      <th>T8501</th>\n",
              "    </tr>\n",
              "    <tr>\n",
              "      <th>time</th>\n",
              "      <th></th>\n",
              "      <th></th>\n",
              "      <th></th>\n",
              "      <th></th>\n",
              "      <th></th>\n",
              "      <th></th>\n",
              "      <th></th>\n",
              "      <th></th>\n",
              "      <th></th>\n",
              "      <th></th>\n",
              "      <th></th>\n",
              "      <th></th>\n",
              "      <th></th>\n",
              "      <th></th>\n",
              "      <th></th>\n",
              "      <th></th>\n",
              "      <th></th>\n",
              "      <th></th>\n",
              "      <th></th>\n",
              "      <th></th>\n",
              "      <th></th>\n",
              "    </tr>\n",
              "  </thead>\n",
              "  <tbody>\n",
              "    <tr>\n",
              "      <th>2021-12-01 00:00:00</th>\n",
              "      <td>6.70</td>\n",
              "      <td>0</td>\n",
              "      <td>1748.98</td>\n",
              "      <td>0.65</td>\n",
              "      <td>-0.07</td>\n",
              "      <td>-0.86</td>\n",
              "      <td>96843.00</td>\n",
              "      <td>275.42</td>\n",
              "      <td>0.91</td>\n",
              "      <td>9961.89</td>\n",
              "      <td>...</td>\n",
              "      <td>-18027.54</td>\n",
              "      <td>5802.0</td>\n",
              "      <td>0.65</td>\n",
              "      <td>0.00</td>\n",
              "      <td>0.0</td>\n",
              "      <td>0.65</td>\n",
              "      <td>55832.66</td>\n",
              "      <td>15091.41</td>\n",
              "      <td>254.48</td>\n",
              "      <td>276.39</td>\n",
              "    </tr>\n",
              "    <tr>\n",
              "      <th>2021-12-01 01:00:00</th>\n",
              "      <td>309.52</td>\n",
              "      <td>0</td>\n",
              "      <td>1863.92</td>\n",
              "      <td>0.65</td>\n",
              "      <td>0.68</td>\n",
              "      <td>-0.52</td>\n",
              "      <td>96750.50</td>\n",
              "      <td>275.26</td>\n",
              "      <td>0.91</td>\n",
              "      <td>10342.69</td>\n",
              "      <td>...</td>\n",
              "      <td>-18224.88</td>\n",
              "      <td>5800.0</td>\n",
              "      <td>0.42</td>\n",
              "      <td>0.00</td>\n",
              "      <td>0.0</td>\n",
              "      <td>0.42</td>\n",
              "      <td>55754.09</td>\n",
              "      <td>15013.80</td>\n",
              "      <td>254.32</td>\n",
              "      <td>276.41</td>\n",
              "    </tr>\n",
              "    <tr>\n",
              "      <th>2021-12-01 02:00:00</th>\n",
              "      <td>177.09</td>\n",
              "      <td>0</td>\n",
              "      <td>1971.57</td>\n",
              "      <td>0.18</td>\n",
              "      <td>-0.03</td>\n",
              "      <td>0.30</td>\n",
              "      <td>96660.34</td>\n",
              "      <td>275.17</td>\n",
              "      <td>0.90</td>\n",
              "      <td>10627.18</td>\n",
              "      <td>...</td>\n",
              "      <td>-18260.63</td>\n",
              "      <td>5800.0</td>\n",
              "      <td>0.13</td>\n",
              "      <td>0.01</td>\n",
              "      <td>0.0</td>\n",
              "      <td>0.13</td>\n",
              "      <td>55648.93</td>\n",
              "      <td>14939.99</td>\n",
              "      <td>254.30</td>\n",
              "      <td>276.38</td>\n",
              "    </tr>\n",
              "    <tr>\n",
              "      <th>2021-12-01 03:00:00</th>\n",
              "      <td>134.49</td>\n",
              "      <td>0</td>\n",
              "      <td>2043.07</td>\n",
              "      <td>0.26</td>\n",
              "      <td>-0.29</td>\n",
              "      <td>0.27</td>\n",
              "      <td>96581.60</td>\n",
              "      <td>275.10</td>\n",
              "      <td>0.90</td>\n",
              "      <td>10826.18</td>\n",
              "      <td>...</td>\n",
              "      <td>-18138.61</td>\n",
              "      <td>5798.0</td>\n",
              "      <td>0.01</td>\n",
              "      <td>0.18</td>\n",
              "      <td>0.0</td>\n",
              "      <td>0.18</td>\n",
              "      <td>55561.82</td>\n",
              "      <td>14880.32</td>\n",
              "      <td>254.31</td>\n",
              "      <td>276.61</td>\n",
              "    </tr>\n",
              "    <tr>\n",
              "      <th>2021-12-01 04:00:00</th>\n",
              "      <td>219.52</td>\n",
              "      <td>0</td>\n",
              "      <td>1977.76</td>\n",
              "      <td>0.12</td>\n",
              "      <td>0.15</td>\n",
              "      <td>0.20</td>\n",
              "      <td>96510.55</td>\n",
              "      <td>275.07</td>\n",
              "      <td>0.90</td>\n",
              "      <td>11224.13</td>\n",
              "      <td>...</td>\n",
              "      <td>-18171.24</td>\n",
              "      <td>6096.0</td>\n",
              "      <td>0.14</td>\n",
              "      <td>0.03</td>\n",
              "      <td>0.0</td>\n",
              "      <td>0.17</td>\n",
              "      <td>55478.26</td>\n",
              "      <td>14815.40</td>\n",
              "      <td>254.30</td>\n",
              "      <td>276.69</td>\n",
              "    </tr>\n",
              "    <tr>\n",
              "      <th>...</th>\n",
              "      <td>...</td>\n",
              "      <td>...</td>\n",
              "      <td>...</td>\n",
              "      <td>...</td>\n",
              "      <td>...</td>\n",
              "      <td>...</td>\n",
              "      <td>...</td>\n",
              "      <td>...</td>\n",
              "      <td>...</td>\n",
              "      <td>...</td>\n",
              "      <td>...</td>\n",
              "      <td>...</td>\n",
              "      <td>...</td>\n",
              "      <td>...</td>\n",
              "      <td>...</td>\n",
              "      <td>...</td>\n",
              "      <td>...</td>\n",
              "      <td>...</td>\n",
              "      <td>...</td>\n",
              "      <td>...</td>\n",
              "      <td>...</td>\n",
              "    </tr>\n",
              "    <tr>\n",
              "      <th>2023-03-15 19:00:00</th>\n",
              "      <td>195.01</td>\n",
              "      <td>0</td>\n",
              "      <td>2262.41</td>\n",
              "      <td>1.82</td>\n",
              "      <td>0.52</td>\n",
              "      <td>2.29</td>\n",
              "      <td>96065.20</td>\n",
              "      <td>284.65</td>\n",
              "      <td>0.72</td>\n",
              "      <td>23099.84</td>\n",
              "      <td>...</td>\n",
              "      <td>-11743.16</td>\n",
              "      <td>9157.0</td>\n",
              "      <td>0.02</td>\n",
              "      <td>0.00</td>\n",
              "      <td>0.0</td>\n",
              "      <td>0.02</td>\n",
              "      <td>56117.12</td>\n",
              "      <td>14709.41</td>\n",
              "      <td>257.48</td>\n",
              "      <td>284.47</td>\n",
              "    </tr>\n",
              "    <tr>\n",
              "      <th>2023-03-15 20:00:00</th>\n",
              "      <td>198.36</td>\n",
              "      <td>0</td>\n",
              "      <td>2294.07</td>\n",
              "      <td>1.57</td>\n",
              "      <td>0.58</td>\n",
              "      <td>1.98</td>\n",
              "      <td>96067.14</td>\n",
              "      <td>283.15</td>\n",
              "      <td>0.77</td>\n",
              "      <td>19987.88</td>\n",
              "      <td>...</td>\n",
              "      <td>-13019.14</td>\n",
              "      <td>8112.0</td>\n",
              "      <td>0.01</td>\n",
              "      <td>0.00</td>\n",
              "      <td>0.0</td>\n",
              "      <td>0.01</td>\n",
              "      <td>56144.04</td>\n",
              "      <td>14712.13</td>\n",
              "      <td>257.61</td>\n",
              "      <td>284.55</td>\n",
              "    </tr>\n",
              "    <tr>\n",
              "      <th>2023-03-15 21:00:00</th>\n",
              "      <td>175.57</td>\n",
              "      <td>0</td>\n",
              "      <td>2328.54</td>\n",
              "      <td>0.81</td>\n",
              "      <td>-0.13</td>\n",
              "      <td>1.09</td>\n",
              "      <td>96069.27</td>\n",
              "      <td>282.06</td>\n",
              "      <td>0.82</td>\n",
              "      <td>16854.59</td>\n",
              "      <td>...</td>\n",
              "      <td>-13923.57</td>\n",
              "      <td>7226.0</td>\n",
              "      <td>0.13</td>\n",
              "      <td>0.00</td>\n",
              "      <td>0.0</td>\n",
              "      <td>0.13</td>\n",
              "      <td>56153.93</td>\n",
              "      <td>14710.62</td>\n",
              "      <td>257.47</td>\n",
              "      <td>284.30</td>\n",
              "    </tr>\n",
              "    <tr>\n",
              "      <th>2023-03-15 22:00:00</th>\n",
              "      <td>147.90</td>\n",
              "      <td>0</td>\n",
              "      <td>2384.49</td>\n",
              "      <td>1.23</td>\n",
              "      <td>-0.91</td>\n",
              "      <td>1.33</td>\n",
              "      <td>96085.00</td>\n",
              "      <td>281.39</td>\n",
              "      <td>0.78</td>\n",
              "      <td>19277.87</td>\n",
              "      <td>...</td>\n",
              "      <td>-14860.39</td>\n",
              "      <td>6836.0</td>\n",
              "      <td>0.65</td>\n",
              "      <td>0.00</td>\n",
              "      <td>0.0</td>\n",
              "      <td>0.65</td>\n",
              "      <td>56140.22</td>\n",
              "      <td>14720.81</td>\n",
              "      <td>257.65</td>\n",
              "      <td>283.70</td>\n",
              "    </tr>\n",
              "    <tr>\n",
              "      <th>2023-03-15 23:00:00</th>\n",
              "      <td>122.92</td>\n",
              "      <td>0</td>\n",
              "      <td>2405.49</td>\n",
              "      <td>1.01</td>\n",
              "      <td>-1.12</td>\n",
              "      <td>0.67</td>\n",
              "      <td>96085.00</td>\n",
              "      <td>280.63</td>\n",
              "      <td>0.77</td>\n",
              "      <td>20169.39</td>\n",
              "      <td>...</td>\n",
              "      <td>-15436.66</td>\n",
              "      <td>6476.0</td>\n",
              "      <td>0.01</td>\n",
              "      <td>0.00</td>\n",
              "      <td>0.0</td>\n",
              "      <td>0.01</td>\n",
              "      <td>56119.93</td>\n",
              "      <td>14718.72</td>\n",
              "      <td>257.13</td>\n",
              "      <td>283.83</td>\n",
              "    </tr>\n",
              "  </tbody>\n",
              "</table>\n",
              "<p>11280 rows × 52 columns</p>\n",
              "</div>\n",
              "      <button class=\"colab-df-convert\" onclick=\"convertToInteractive('df-96fccfcb-d364-4c61-8d2a-9386daa65572')\"\n",
              "              title=\"Convert this dataframe to an interactive table.\"\n",
              "              style=\"display:none;\">\n",
              "        \n",
              "  <svg xmlns=\"http://www.w3.org/2000/svg\" height=\"24px\"viewBox=\"0 0 24 24\"\n",
              "       width=\"24px\">\n",
              "    <path d=\"M0 0h24v24H0V0z\" fill=\"none\"/>\n",
              "    <path d=\"M18.56 5.44l.94 2.06.94-2.06 2.06-.94-2.06-.94-.94-2.06-.94 2.06-2.06.94zm-11 1L8.5 8.5l.94-2.06 2.06-.94-2.06-.94L8.5 2.5l-.94 2.06-2.06.94zm10 10l.94 2.06.94-2.06 2.06-.94-2.06-.94-.94-2.06-.94 2.06-2.06.94z\"/><path d=\"M17.41 7.96l-1.37-1.37c-.4-.4-.92-.59-1.43-.59-.52 0-1.04.2-1.43.59L10.3 9.45l-7.72 7.72c-.78.78-.78 2.05 0 2.83L4 21.41c.39.39.9.59 1.41.59.51 0 1.02-.2 1.41-.59l7.78-7.78 2.81-2.81c.8-.78.8-2.07 0-2.86zM5.41 20L4 18.59l7.72-7.72 1.47 1.35L5.41 20z\"/>\n",
              "  </svg>\n",
              "      </button>\n",
              "      \n",
              "  <style>\n",
              "    .colab-df-container {\n",
              "      display:flex;\n",
              "      flex-wrap:wrap;\n",
              "      gap: 12px;\n",
              "    }\n",
              "\n",
              "    .colab-df-convert {\n",
              "      background-color: #E8F0FE;\n",
              "      border: none;\n",
              "      border-radius: 50%;\n",
              "      cursor: pointer;\n",
              "      display: none;\n",
              "      fill: #1967D2;\n",
              "      height: 32px;\n",
              "      padding: 0 0 0 0;\n",
              "      width: 32px;\n",
              "    }\n",
              "\n",
              "    .colab-df-convert:hover {\n",
              "      background-color: #E2EBFA;\n",
              "      box-shadow: 0px 1px 2px rgba(60, 64, 67, 0.3), 0px 1px 3px 1px rgba(60, 64, 67, 0.15);\n",
              "      fill: #174EA6;\n",
              "    }\n",
              "\n",
              "    [theme=dark] .colab-df-convert {\n",
              "      background-color: #3B4455;\n",
              "      fill: #D2E3FC;\n",
              "    }\n",
              "\n",
              "    [theme=dark] .colab-df-convert:hover {\n",
              "      background-color: #434B5C;\n",
              "      box-shadow: 0px 1px 3px 1px rgba(0, 0, 0, 0.15);\n",
              "      filter: drop-shadow(0px 1px 2px rgba(0, 0, 0, 0.3));\n",
              "      fill: #FFFFFF;\n",
              "    }\n",
              "  </style>\n",
              "\n",
              "      <script>\n",
              "        const buttonEl =\n",
              "          document.querySelector('#df-96fccfcb-d364-4c61-8d2a-9386daa65572 button.colab-df-convert');\n",
              "        buttonEl.style.display =\n",
              "          google.colab.kernel.accessAllowed ? 'block' : 'none';\n",
              "\n",
              "        async function convertToInteractive(key) {\n",
              "          const element = document.querySelector('#df-96fccfcb-d364-4c61-8d2a-9386daa65572');\n",
              "          const dataTable =\n",
              "            await google.colab.kernel.invokeFunction('convertToInteractive',\n",
              "                                                     [key], {});\n",
              "          if (!dataTable) return;\n",
              "\n",
              "          const docLinkHtml = 'Like what you see? Visit the ' +\n",
              "            '<a target=\"_blank\" href=https://colab.research.google.com/notebooks/data_table.ipynb>data table notebook</a>'\n",
              "            + ' to learn more about interactive tables.';\n",
              "          element.innerHTML = '';\n",
              "          dataTable['output_type'] = 'display_data';\n",
              "          await google.colab.output.renderOutput(dataTable, element);\n",
              "          const docLink = document.createElement('div');\n",
              "          docLink.innerHTML = docLinkHtml;\n",
              "          element.appendChild(docLink);\n",
              "        }\n",
              "      </script>\n",
              "    </div>\n",
              "  </div>\n",
              "  "
            ]
          },
          "metadata": {},
          "execution_count": 3
        }
      ]
    },
    {
      "cell_type": "code",
      "source": [
        "#concat station model\n",
        "df_all1k = pd.concat([station,model1k],axis=1).dropna()\n",
        "df_all1k"
      ],
      "metadata": {
        "colab": {
          "base_uri": "https://localhost:8080/",
          "height": 866
        },
        "id": "Pew3L8PHgA0R",
        "outputId": "6edd9326-9968-4fc2-a6a9-7bdcbe4539f7"
      },
      "execution_count": 4,
      "outputs": [
        {
          "output_type": "execute_result",
          "data": {
            "text/plain": [
              "                        spd_o    dir0  snow_prec0  isocero0  mod0  racha_u0  \\\n",
              "time                                                                          \n",
              "2021-12-01 00:00:00  0.000000    6.70         0.0   1748.98  0.65     -0.07   \n",
              "2021-12-01 01:00:00  0.000000  309.52         0.0   1863.92  0.65      0.68   \n",
              "2021-12-01 02:00:00  0.000000  177.09         0.0   1971.57  0.18     -0.03   \n",
              "2021-12-01 03:00:00  0.000000  134.49         0.0   2043.07  0.26     -0.29   \n",
              "2021-12-01 04:00:00  0.000000  219.52         0.0   1977.76  0.12      0.15   \n",
              "...                       ...     ...         ...       ...   ...       ...   \n",
              "2023-03-14 19:00:00  2.572220  353.75         0.0   1530.09  3.81      0.84   \n",
              "2023-03-14 20:00:00  3.086664  353.31         0.0   1664.69  2.41      0.58   \n",
              "2023-03-14 21:00:00  2.057776  342.29         0.0   1723.74  3.03      1.64   \n",
              "2023-03-14 22:00:00  1.543332  347.63         0.0   1621.25  0.48      0.27   \n",
              "2023-03-14 23:00:00  1.543332  174.78         0.0   1629.44  1.18     -0.20   \n",
              "\n",
              "                     racha_v0     mslp0   temp0   rh0  ...     cape1    cin1  \\\n",
              "time                                                   ...                     \n",
              "2021-12-01 00:00:00     -0.86  96843.00  275.42  0.91  ... -18027.54  5802.0   \n",
              "2021-12-01 01:00:00     -0.52  96750.50  275.26  0.91  ... -18224.88  5800.0   \n",
              "2021-12-01 02:00:00      0.30  96660.34  275.17  0.90  ... -18260.63  5800.0   \n",
              "2021-12-01 03:00:00      0.27  96581.60  275.10  0.90  ... -18138.61  5798.0   \n",
              "2021-12-01 04:00:00      0.20  96510.55  275.07  0.90  ... -18171.24  6096.0   \n",
              "...                       ...       ...     ...   ...  ...       ...     ...   \n",
              "2023-03-14 19:00:00     -5.68  96546.76  280.97  0.84  ... -13459.23  8516.0   \n",
              "2023-03-14 20:00:00     -3.72  96576.39  280.32  0.85  ... -14078.05  8508.0   \n",
              "2023-03-14 21:00:00     -4.55  96591.75  279.94  0.85  ... -14427.15  8020.0   \n",
              "2023-03-14 22:00:00     -1.05  96647.49  278.63  0.92  ... -14480.47  8018.0   \n",
              "2023-03-14 23:00:00      1.55  96661.69  277.66  0.92  ... -15427.48  5814.0   \n",
              "\n",
              "                     cfh1  cfl1  cfm1  cft1   HGT5001   HGT8501   T5001  \\\n",
              "time                                                                      \n",
              "2021-12-01 00:00:00  0.65  0.00   0.0  0.65  55832.66  15091.41  254.48   \n",
              "2021-12-01 01:00:00  0.42  0.00   0.0  0.42  55754.09  15013.80  254.32   \n",
              "2021-12-01 02:00:00  0.13  0.01   0.0  0.13  55648.93  14939.99  254.30   \n",
              "2021-12-01 03:00:00  0.01  0.18   0.0  0.18  55561.82  14880.32  254.31   \n",
              "2021-12-01 04:00:00  0.14  0.03   0.0  0.17  55478.26  14815.40  254.30   \n",
              "...                   ...   ...   ...   ...       ...       ...     ...   \n",
              "2023-03-14 19:00:00  1.00  0.00   0.0  1.00  55450.81  14869.96  256.77   \n",
              "2023-03-14 20:00:00  1.00  0.00   0.0  1.00  55520.37  14875.10  256.94   \n",
              "2023-03-14 21:00:00  0.99  0.00   0.0  0.99  55587.73  14891.30  256.83   \n",
              "2023-03-14 22:00:00  0.97  0.00   0.0  0.97  55623.42  14921.15  256.91   \n",
              "2023-03-14 23:00:00  0.86  0.09   0.0  0.88  55630.68  14917.63  257.06   \n",
              "\n",
              "                      T8501  \n",
              "time                         \n",
              "2021-12-01 00:00:00  276.39  \n",
              "2021-12-01 01:00:00  276.41  \n",
              "2021-12-01 02:00:00  276.38  \n",
              "2021-12-01 03:00:00  276.61  \n",
              "2021-12-01 04:00:00  276.69  \n",
              "...                     ...  \n",
              "2023-03-14 19:00:00  276.22  \n",
              "2023-03-14 20:00:00  276.71  \n",
              "2023-03-14 21:00:00  276.77  \n",
              "2023-03-14 22:00:00  275.69  \n",
              "2023-03-14 23:00:00  275.01  \n",
              "\n",
              "[11234 rows x 53 columns]"
            ],
            "text/html": [
              "\n",
              "  <div id=\"df-48e698be-7a77-444a-b8ea-d9496018ffb4\">\n",
              "    <div class=\"colab-df-container\">\n",
              "      <div>\n",
              "<style scoped>\n",
              "    .dataframe tbody tr th:only-of-type {\n",
              "        vertical-align: middle;\n",
              "    }\n",
              "\n",
              "    .dataframe tbody tr th {\n",
              "        vertical-align: top;\n",
              "    }\n",
              "\n",
              "    .dataframe thead th {\n",
              "        text-align: right;\n",
              "    }\n",
              "</style>\n",
              "<table border=\"1\" class=\"dataframe\">\n",
              "  <thead>\n",
              "    <tr style=\"text-align: right;\">\n",
              "      <th></th>\n",
              "      <th>spd_o</th>\n",
              "      <th>dir0</th>\n",
              "      <th>snow_prec0</th>\n",
              "      <th>isocero0</th>\n",
              "      <th>mod0</th>\n",
              "      <th>racha_u0</th>\n",
              "      <th>racha_v0</th>\n",
              "      <th>mslp0</th>\n",
              "      <th>temp0</th>\n",
              "      <th>rh0</th>\n",
              "      <th>...</th>\n",
              "      <th>cape1</th>\n",
              "      <th>cin1</th>\n",
              "      <th>cfh1</th>\n",
              "      <th>cfl1</th>\n",
              "      <th>cfm1</th>\n",
              "      <th>cft1</th>\n",
              "      <th>HGT5001</th>\n",
              "      <th>HGT8501</th>\n",
              "      <th>T5001</th>\n",
              "      <th>T8501</th>\n",
              "    </tr>\n",
              "    <tr>\n",
              "      <th>time</th>\n",
              "      <th></th>\n",
              "      <th></th>\n",
              "      <th></th>\n",
              "      <th></th>\n",
              "      <th></th>\n",
              "      <th></th>\n",
              "      <th></th>\n",
              "      <th></th>\n",
              "      <th></th>\n",
              "      <th></th>\n",
              "      <th></th>\n",
              "      <th></th>\n",
              "      <th></th>\n",
              "      <th></th>\n",
              "      <th></th>\n",
              "      <th></th>\n",
              "      <th></th>\n",
              "      <th></th>\n",
              "      <th></th>\n",
              "      <th></th>\n",
              "      <th></th>\n",
              "    </tr>\n",
              "  </thead>\n",
              "  <tbody>\n",
              "    <tr>\n",
              "      <th>2021-12-01 00:00:00</th>\n",
              "      <td>0.000000</td>\n",
              "      <td>6.70</td>\n",
              "      <td>0.0</td>\n",
              "      <td>1748.98</td>\n",
              "      <td>0.65</td>\n",
              "      <td>-0.07</td>\n",
              "      <td>-0.86</td>\n",
              "      <td>96843.00</td>\n",
              "      <td>275.42</td>\n",
              "      <td>0.91</td>\n",
              "      <td>...</td>\n",
              "      <td>-18027.54</td>\n",
              "      <td>5802.0</td>\n",
              "      <td>0.65</td>\n",
              "      <td>0.00</td>\n",
              "      <td>0.0</td>\n",
              "      <td>0.65</td>\n",
              "      <td>55832.66</td>\n",
              "      <td>15091.41</td>\n",
              "      <td>254.48</td>\n",
              "      <td>276.39</td>\n",
              "    </tr>\n",
              "    <tr>\n",
              "      <th>2021-12-01 01:00:00</th>\n",
              "      <td>0.000000</td>\n",
              "      <td>309.52</td>\n",
              "      <td>0.0</td>\n",
              "      <td>1863.92</td>\n",
              "      <td>0.65</td>\n",
              "      <td>0.68</td>\n",
              "      <td>-0.52</td>\n",
              "      <td>96750.50</td>\n",
              "      <td>275.26</td>\n",
              "      <td>0.91</td>\n",
              "      <td>...</td>\n",
              "      <td>-18224.88</td>\n",
              "      <td>5800.0</td>\n",
              "      <td>0.42</td>\n",
              "      <td>0.00</td>\n",
              "      <td>0.0</td>\n",
              "      <td>0.42</td>\n",
              "      <td>55754.09</td>\n",
              "      <td>15013.80</td>\n",
              "      <td>254.32</td>\n",
              "      <td>276.41</td>\n",
              "    </tr>\n",
              "    <tr>\n",
              "      <th>2021-12-01 02:00:00</th>\n",
              "      <td>0.000000</td>\n",
              "      <td>177.09</td>\n",
              "      <td>0.0</td>\n",
              "      <td>1971.57</td>\n",
              "      <td>0.18</td>\n",
              "      <td>-0.03</td>\n",
              "      <td>0.30</td>\n",
              "      <td>96660.34</td>\n",
              "      <td>275.17</td>\n",
              "      <td>0.90</td>\n",
              "      <td>...</td>\n",
              "      <td>-18260.63</td>\n",
              "      <td>5800.0</td>\n",
              "      <td>0.13</td>\n",
              "      <td>0.01</td>\n",
              "      <td>0.0</td>\n",
              "      <td>0.13</td>\n",
              "      <td>55648.93</td>\n",
              "      <td>14939.99</td>\n",
              "      <td>254.30</td>\n",
              "      <td>276.38</td>\n",
              "    </tr>\n",
              "    <tr>\n",
              "      <th>2021-12-01 03:00:00</th>\n",
              "      <td>0.000000</td>\n",
              "      <td>134.49</td>\n",
              "      <td>0.0</td>\n",
              "      <td>2043.07</td>\n",
              "      <td>0.26</td>\n",
              "      <td>-0.29</td>\n",
              "      <td>0.27</td>\n",
              "      <td>96581.60</td>\n",
              "      <td>275.10</td>\n",
              "      <td>0.90</td>\n",
              "      <td>...</td>\n",
              "      <td>-18138.61</td>\n",
              "      <td>5798.0</td>\n",
              "      <td>0.01</td>\n",
              "      <td>0.18</td>\n",
              "      <td>0.0</td>\n",
              "      <td>0.18</td>\n",
              "      <td>55561.82</td>\n",
              "      <td>14880.32</td>\n",
              "      <td>254.31</td>\n",
              "      <td>276.61</td>\n",
              "    </tr>\n",
              "    <tr>\n",
              "      <th>2021-12-01 04:00:00</th>\n",
              "      <td>0.000000</td>\n",
              "      <td>219.52</td>\n",
              "      <td>0.0</td>\n",
              "      <td>1977.76</td>\n",
              "      <td>0.12</td>\n",
              "      <td>0.15</td>\n",
              "      <td>0.20</td>\n",
              "      <td>96510.55</td>\n",
              "      <td>275.07</td>\n",
              "      <td>0.90</td>\n",
              "      <td>...</td>\n",
              "      <td>-18171.24</td>\n",
              "      <td>6096.0</td>\n",
              "      <td>0.14</td>\n",
              "      <td>0.03</td>\n",
              "      <td>0.0</td>\n",
              "      <td>0.17</td>\n",
              "      <td>55478.26</td>\n",
              "      <td>14815.40</td>\n",
              "      <td>254.30</td>\n",
              "      <td>276.69</td>\n",
              "    </tr>\n",
              "    <tr>\n",
              "      <th>...</th>\n",
              "      <td>...</td>\n",
              "      <td>...</td>\n",
              "      <td>...</td>\n",
              "      <td>...</td>\n",
              "      <td>...</td>\n",
              "      <td>...</td>\n",
              "      <td>...</td>\n",
              "      <td>...</td>\n",
              "      <td>...</td>\n",
              "      <td>...</td>\n",
              "      <td>...</td>\n",
              "      <td>...</td>\n",
              "      <td>...</td>\n",
              "      <td>...</td>\n",
              "      <td>...</td>\n",
              "      <td>...</td>\n",
              "      <td>...</td>\n",
              "      <td>...</td>\n",
              "      <td>...</td>\n",
              "      <td>...</td>\n",
              "      <td>...</td>\n",
              "    </tr>\n",
              "    <tr>\n",
              "      <th>2023-03-14 19:00:00</th>\n",
              "      <td>2.572220</td>\n",
              "      <td>353.75</td>\n",
              "      <td>0.0</td>\n",
              "      <td>1530.09</td>\n",
              "      <td>3.81</td>\n",
              "      <td>0.84</td>\n",
              "      <td>-5.68</td>\n",
              "      <td>96546.76</td>\n",
              "      <td>280.97</td>\n",
              "      <td>0.84</td>\n",
              "      <td>...</td>\n",
              "      <td>-13459.23</td>\n",
              "      <td>8516.0</td>\n",
              "      <td>1.00</td>\n",
              "      <td>0.00</td>\n",
              "      <td>0.0</td>\n",
              "      <td>1.00</td>\n",
              "      <td>55450.81</td>\n",
              "      <td>14869.96</td>\n",
              "      <td>256.77</td>\n",
              "      <td>276.22</td>\n",
              "    </tr>\n",
              "    <tr>\n",
              "      <th>2023-03-14 20:00:00</th>\n",
              "      <td>3.086664</td>\n",
              "      <td>353.31</td>\n",
              "      <td>0.0</td>\n",
              "      <td>1664.69</td>\n",
              "      <td>2.41</td>\n",
              "      <td>0.58</td>\n",
              "      <td>-3.72</td>\n",
              "      <td>96576.39</td>\n",
              "      <td>280.32</td>\n",
              "      <td>0.85</td>\n",
              "      <td>...</td>\n",
              "      <td>-14078.05</td>\n",
              "      <td>8508.0</td>\n",
              "      <td>1.00</td>\n",
              "      <td>0.00</td>\n",
              "      <td>0.0</td>\n",
              "      <td>1.00</td>\n",
              "      <td>55520.37</td>\n",
              "      <td>14875.10</td>\n",
              "      <td>256.94</td>\n",
              "      <td>276.71</td>\n",
              "    </tr>\n",
              "    <tr>\n",
              "      <th>2023-03-14 21:00:00</th>\n",
              "      <td>2.057776</td>\n",
              "      <td>342.29</td>\n",
              "      <td>0.0</td>\n",
              "      <td>1723.74</td>\n",
              "      <td>3.03</td>\n",
              "      <td>1.64</td>\n",
              "      <td>-4.55</td>\n",
              "      <td>96591.75</td>\n",
              "      <td>279.94</td>\n",
              "      <td>0.85</td>\n",
              "      <td>...</td>\n",
              "      <td>-14427.15</td>\n",
              "      <td>8020.0</td>\n",
              "      <td>0.99</td>\n",
              "      <td>0.00</td>\n",
              "      <td>0.0</td>\n",
              "      <td>0.99</td>\n",
              "      <td>55587.73</td>\n",
              "      <td>14891.30</td>\n",
              "      <td>256.83</td>\n",
              "      <td>276.77</td>\n",
              "    </tr>\n",
              "    <tr>\n",
              "      <th>2023-03-14 22:00:00</th>\n",
              "      <td>1.543332</td>\n",
              "      <td>347.63</td>\n",
              "      <td>0.0</td>\n",
              "      <td>1621.25</td>\n",
              "      <td>0.48</td>\n",
              "      <td>0.27</td>\n",
              "      <td>-1.05</td>\n",
              "      <td>96647.49</td>\n",
              "      <td>278.63</td>\n",
              "      <td>0.92</td>\n",
              "      <td>...</td>\n",
              "      <td>-14480.47</td>\n",
              "      <td>8018.0</td>\n",
              "      <td>0.97</td>\n",
              "      <td>0.00</td>\n",
              "      <td>0.0</td>\n",
              "      <td>0.97</td>\n",
              "      <td>55623.42</td>\n",
              "      <td>14921.15</td>\n",
              "      <td>256.91</td>\n",
              "      <td>275.69</td>\n",
              "    </tr>\n",
              "    <tr>\n",
              "      <th>2023-03-14 23:00:00</th>\n",
              "      <td>1.543332</td>\n",
              "      <td>174.78</td>\n",
              "      <td>0.0</td>\n",
              "      <td>1629.44</td>\n",
              "      <td>1.18</td>\n",
              "      <td>-0.20</td>\n",
              "      <td>1.55</td>\n",
              "      <td>96661.69</td>\n",
              "      <td>277.66</td>\n",
              "      <td>0.92</td>\n",
              "      <td>...</td>\n",
              "      <td>-15427.48</td>\n",
              "      <td>5814.0</td>\n",
              "      <td>0.86</td>\n",
              "      <td>0.09</td>\n",
              "      <td>0.0</td>\n",
              "      <td>0.88</td>\n",
              "      <td>55630.68</td>\n",
              "      <td>14917.63</td>\n",
              "      <td>257.06</td>\n",
              "      <td>275.01</td>\n",
              "    </tr>\n",
              "  </tbody>\n",
              "</table>\n",
              "<p>11234 rows × 53 columns</p>\n",
              "</div>\n",
              "      <button class=\"colab-df-convert\" onclick=\"convertToInteractive('df-48e698be-7a77-444a-b8ea-d9496018ffb4')\"\n",
              "              title=\"Convert this dataframe to an interactive table.\"\n",
              "              style=\"display:none;\">\n",
              "        \n",
              "  <svg xmlns=\"http://www.w3.org/2000/svg\" height=\"24px\"viewBox=\"0 0 24 24\"\n",
              "       width=\"24px\">\n",
              "    <path d=\"M0 0h24v24H0V0z\" fill=\"none\"/>\n",
              "    <path d=\"M18.56 5.44l.94 2.06.94-2.06 2.06-.94-2.06-.94-.94-2.06-.94 2.06-2.06.94zm-11 1L8.5 8.5l.94-2.06 2.06-.94-2.06-.94L8.5 2.5l-.94 2.06-2.06.94zm10 10l.94 2.06.94-2.06 2.06-.94-2.06-.94-.94-2.06-.94 2.06-2.06.94z\"/><path d=\"M17.41 7.96l-1.37-1.37c-.4-.4-.92-.59-1.43-.59-.52 0-1.04.2-1.43.59L10.3 9.45l-7.72 7.72c-.78.78-.78 2.05 0 2.83L4 21.41c.39.39.9.59 1.41.59.51 0 1.02-.2 1.41-.59l7.78-7.78 2.81-2.81c.8-.78.8-2.07 0-2.86zM5.41 20L4 18.59l7.72-7.72 1.47 1.35L5.41 20z\"/>\n",
              "  </svg>\n",
              "      </button>\n",
              "      \n",
              "  <style>\n",
              "    .colab-df-container {\n",
              "      display:flex;\n",
              "      flex-wrap:wrap;\n",
              "      gap: 12px;\n",
              "    }\n",
              "\n",
              "    .colab-df-convert {\n",
              "      background-color: #E8F0FE;\n",
              "      border: none;\n",
              "      border-radius: 50%;\n",
              "      cursor: pointer;\n",
              "      display: none;\n",
              "      fill: #1967D2;\n",
              "      height: 32px;\n",
              "      padding: 0 0 0 0;\n",
              "      width: 32px;\n",
              "    }\n",
              "\n",
              "    .colab-df-convert:hover {\n",
              "      background-color: #E2EBFA;\n",
              "      box-shadow: 0px 1px 2px rgba(60, 64, 67, 0.3), 0px 1px 3px 1px rgba(60, 64, 67, 0.15);\n",
              "      fill: #174EA6;\n",
              "    }\n",
              "\n",
              "    [theme=dark] .colab-df-convert {\n",
              "      background-color: #3B4455;\n",
              "      fill: #D2E3FC;\n",
              "    }\n",
              "\n",
              "    [theme=dark] .colab-df-convert:hover {\n",
              "      background-color: #434B5C;\n",
              "      box-shadow: 0px 1px 3px 1px rgba(0, 0, 0, 0.15);\n",
              "      filter: drop-shadow(0px 1px 2px rgba(0, 0, 0, 0.3));\n",
              "      fill: #FFFFFF;\n",
              "    }\n",
              "  </style>\n",
              "\n",
              "      <script>\n",
              "        const buttonEl =\n",
              "          document.querySelector('#df-48e698be-7a77-444a-b8ea-d9496018ffb4 button.colab-df-convert');\n",
              "        buttonEl.style.display =\n",
              "          google.colab.kernel.accessAllowed ? 'block' : 'none';\n",
              "\n",
              "        async function convertToInteractive(key) {\n",
              "          const element = document.querySelector('#df-48e698be-7a77-444a-b8ea-d9496018ffb4');\n",
              "          const dataTable =\n",
              "            await google.colab.kernel.invokeFunction('convertToInteractive',\n",
              "                                                     [key], {});\n",
              "          if (!dataTable) return;\n",
              "\n",
              "          const docLinkHtml = 'Like what you see? Visit the ' +\n",
              "            '<a target=\"_blank\" href=https://colab.research.google.com/notebooks/data_table.ipynb>data table notebook</a>'\n",
              "            + ' to learn more about interactive tables.';\n",
              "          element.innerHTML = '';\n",
              "          dataTable['output_type'] = 'display_data';\n",
              "          await google.colab.output.renderOutput(dataTable, element);\n",
              "          const docLink = document.createElement('div');\n",
              "          docLink.innerHTML = docLinkHtml;\n",
              "          element.appendChild(docLink);\n",
              "        }\n",
              "      </script>\n",
              "    </div>\n",
              "  </div>\n",
              "  "
            ]
          },
          "metadata": {},
          "execution_count": 4
        }
      ]
    },
    {
      "cell_type": "markdown",
      "source": [
        "**Observed speed (speed_o) Vs forecasted speed meteorological model point 0 (mod0)- Units (m/s)**"
      ],
      "metadata": {
        "id": "NhEvyi0ShPoU"
      }
    },
    {
      "cell_type": "code",
      "source": [
        "df_all1k[[\"spd_o\",\"mod0\"]][0::72].plot(figsize=(18, 8),grid =True,);"
      ],
      "metadata": {
        "colab": {
          "base_uri": "https://localhost:8080/",
          "height": 473
        },
        "id": "xq6ZWCSUhbYd",
        "outputId": "3767ac15-9930-4ecf-c74c-a5c11319aa46"
      },
      "execution_count": 5,
      "outputs": [
        {
          "output_type": "display_data",
          "data": {
            "text/plain": [
              "<Figure size 1296x576 with 1 Axes>"
            ],
            "image/png": "[encoded data removed]"
          },
          "metadata": {
            "needs_background": "light"
          }
        }
      ]
    },
    {
      "cell_type": "markdown",
      "source": [
        "**Meteorological model point 0 scores**"
      ],
      "metadata": {
        "id": "xAyajlPailMD"
      }
    },
    {
      "cell_type": "code",
      "source": [
        "from sklearn.metrics import mean_absolute_error\n",
        "from sklearn.metrics import mean_squared_error\n",
        "from sklearn.metrics import r2_score\n",
        "from sklearn.metrics import median_absolute_error\n",
        "import seaborn as sns\n",
        "import numpy as np\n",
        "\n",
        "#Mean absolute error\n",
        "Mean_AE = round(mean_absolute_error(df_all1k[\"spd_o\"], df_all1k[\"mod0\"]),2)\n",
        "#MSE \n",
        "MSE = round(mean_squared_error(df_all1k[\"spd_o\"], df_all1k[\"mod0\"]),2)\n",
        "#R2\n",
        "R2 = round(r2_score(df_all1k[\"spd_o\"], df_all1k[\"mod0\"]),2)\n",
        "#Median absolute error\n",
        "Median_AE = round(median_absolute_error(df_all1k[\"spd_o\"], df_all1k[\"mod0\"]),2)\n",
        "#random seed 1\n",
        "np.random.seed(1)\n",
        "\n",
        "sns.set_theme(style=\"darkgrid\")\n",
        "g = sns.jointplot(x=\"mod0\", y=\"spd_o\", data=df_all1k.sample(200),\n",
        "                  kind=\"reg\", truncate=False,\n",
        "                  xlim=(0, 15), ylim=(0, 15),\n",
        "                  color=\"m\", height=7)\n",
        "\n",
        "\n",
        "print(pd.DataFrame({\"Mean_AE\":Mean_AE,\"MSE\":MSE,\"R2\":R2,\"Median_AE\":Median_AE},index=[\"results point 0\"]))"
      ],
      "metadata": {
        "colab": {
          "base_uri": "https://localhost:8080/",
          "height": 544
        },
        "id": "Z4-UJLoKinHl",
        "outputId": "f3b8bcff-9ccd-409d-afa1-0d19cf4e3c20"
      },
      "execution_count": 7,
      "outputs": [
        {
          "output_type": "stream",
          "name": "stdout",
          "text": [
            "                 Mean_AE   MSE    R2  Median_AE\n",
            "results point 0     1.32  3.07  0.55        1.0\n"
          ]
        },
        {
          "output_type": "display_data",
          "data": {
            "text/plain": [
              "<Figure size 504x504 with 3 Axes>"
            ],
            "image/png": "[encoded data removed]"
          },
          "metadata": {}
        }
      ]
    },
    {
      "cell_type": "markdown",
      "source": [
        "**Meteorological model point 1 scores**"
      ],
      "metadata": {
        "id": "1vDDsD_Imzdq"
      }
    },
    {
      "cell_type": "code",
      "source": [
        "from sklearn.metrics import mean_absolute_error\n",
        "from sklearn.metrics import mean_squared_error\n",
        "from sklearn.metrics import r2_score\n",
        "from sklearn.metrics import median_absolute_error\n",
        "import seaborn as sns\n",
        "\n",
        "#Mean absolute error\n",
        "Mean_AE = round(mean_absolute_error(df_all1k[\"spd_o\"], df_all1k[\"mod1\"]),2)\n",
        "#MSE \n",
        "MSE = round(mean_squared_error(df_all1k[\"spd_o\"], df_all1k[\"mod1\"]),2)\n",
        "#R2\n",
        "R2 = round(r2_score(df_all1k[\"spd_o\"], df_all1k[\"mod1\"]),2)\n",
        "#Median absolute error\n",
        "Median_AE = round(median_absolute_error(df_all1k[\"spd_o\"], df_all1k[\"mod1\"]),2)\n",
        "\n",
        "#random seed 1\n",
        "np.random.seed(1)\n",
        "\n",
        "sns.set_theme(style=\"darkgrid\")\n",
        "g = sns.jointplot(x=\"mod1\", y=\"spd_o\", data=df_all1k.sample(200),\n",
        "                  kind=\"reg\", truncate=False,\n",
        "                  xlim=(0, 15), ylim=(0, 15),\n",
        "                  color=\"m\", height=7)\n",
        "\n",
        "\n",
        "print(pd.DataFrame({\"Mean_AE\":Mean_AE,\"MSE\":MSE,\"R2\":R2,\"Median_AE\":Median_AE},index=[\"results point 1\"]))"
      ],
      "metadata": {
        "colab": {
          "base_uri": "https://localhost:8080/",
          "height": 544
        },
        "id": "DrKMpDxomyNl",
        "outputId": "4c0e35b6-3f37-4e9b-8974-263a15d06292"
      },
      "execution_count": 8,
      "outputs": [
        {
          "output_type": "stream",
          "name": "stdout",
          "text": [
            "                 Mean_AE   MSE    R2  Median_AE\n",
            "results point 1     1.26  2.83  0.58       0.95\n"
          ]
        },
        {
          "output_type": "display_data",
          "data": {
            "text/plain": [
              "<Figure size 504x504 with 3 Axes>"
            ],
            "image/png": "[encoded data removed]"
          },
          "metadata": {}
        }
      ]
    },
    {
      "cell_type": "markdown",
      "source": [
        "**Meteorological model independent variables X**"
      ],
      "metadata": {
        "id": "smL53-bpnYlL"
      }
    },
    {
      "cell_type": "code",
      "source": [
        "df_all1k.iloc[:,1:].columns"
      ],
      "metadata": {
        "colab": {
          "base_uri": "https://localhost:8080/"
        },
        "id": "YIEjZ8UVnWcU",
        "outputId": "0e7366b9-eeac-4114-fd30-f3dde786d23f"
      },
      "execution_count": 9,
      "outputs": [
        {
          "output_type": "execute_result",
          "data": {
            "text/plain": [
              "Index(['dir0', 'snow_prec0', 'isocero0', 'mod0', 'racha_u0', 'racha_v0',\n",
              "       'mslp0', 'temp0', 'rh0', 'visibility0', 'lhevapac0', 'lhsublac0',\n",
              "       'lwflx0', 'prec0', 'swflx0', 'shflxac0', 'cape0', 'cin0', 'cfh0',\n",
              "       'cfl0', 'cfm0', 'cft0', 'HGT5000', 'HGT8500', 'T5000', 'T8500', 'dir1',\n",
              "       'snow_prec1', 'isocero1', 'mod1', 'racha_u1', 'racha_v1', 'mslp1',\n",
              "       'temp1', 'rh1', 'visibility1', 'lhevapac1', 'lhsublac1', 'lwflx1',\n",
              "       'prec1', 'swflx1', 'shflxac1', 'cape1', 'cin1', 'cfh1', 'cfl1', 'cfm1',\n",
              "       'cft1', 'HGT5001', 'HGT8501', 'T5001', 'T8501'],\n",
              "      dtype='object')"
            ]
          },
          "metadata": {},
          "execution_count": 9
        }
      ]
    },
    {
      "cell_type": "code",
      "source": [
        "from sklearn.model_selection import train_test_split\n",
        "import lazypredict\n",
        "from lazypredict.Supervised import LazyRegressor\n",
        "\n",
        "# X and Y\n",
        "Y = df_all1k[\"spd_o\"]\n",
        "X = df_all1k.iloc[:,1:]\n",
        "\n",
        "X_train, X_test, y_train, y_test = train_test_split(X,Y, test_size=0.2, )\n",
        "\n",
        "\n",
        "multiple_model = LazyRegressor(verbose =0, ignore_warnings = True,predictions=True)\n",
        "models,predictions = multiple_model.fit(X_train,X_test,y_train,y_test)"
      ],
      "metadata": {
        "id": "yDXLnryb71O1"
      },
      "execution_count": null,
      "outputs": []
    },
    {
      "cell_type": "code",
      "source": [
        "models"
      ],
      "metadata": {
        "id": "UOjWiLjS_zvi"
      },
      "execution_count": null,
      "outputs": []
    },
    {
      "cell_type": "markdown",
      "source": [
        "**LGBMRegressor. y_test from lazypredict**"
      ],
      "metadata": {
        "id": "GLB6qlndgjob"
      }
    },
    {
      "cell_type": "code",
      "source": [
        "Mean_AE = round(mean_absolute_error(y_test, predictions.LGBMRegressor),2)\n",
        "MSE = round(mean_squared_error(y_test, predictions.LGBMRegressor),2)\n",
        "R2 = round(r2_score(y_test, predictions.LGBMRegressor),2)\n",
        "Median_AE = round(median_absolute_error(y_test, predictions.LGBMRegressor),2)\n",
        "\n",
        "print(pd.DataFrame({\"Mean_AE\":Mean_AE,\"MSE\":MSE,\"R2\":R2,\"Median_AE\":Median_AE},index=[\"results LGBMRegressor\"]))"
      ],
      "metadata": {
        "colab": {
          "base_uri": "https://localhost:8080/",
          "height": 236
        },
        "id": "HgPrmh1CxhvL",
        "outputId": "e255db8c-72ac-4634-d06f-6de56ba00097"
      },
      "execution_count": null,
      "outputs": [
        {
          "output_type": "error",
          "ename": "NameError",
          "evalue": "ignored",
          "traceback": [
            "\u001b[0;31m---------------------------------------------------------------------------\u001b[0m",
            "\u001b[0;31mNameError\u001b[0m                                 Traceback (most recent call last)",
            "\u001b[0;32m<ipython-input-15-94974850dbdd>\u001b[0m in \u001b[0;36m<module>\u001b[0;34m\u001b[0m\n\u001b[0;32m----> 1\u001b[0;31m \u001b[0mMean_AE\u001b[0m \u001b[0;34m=\u001b[0m \u001b[0mround\u001b[0m\u001b[0;34m(\u001b[0m\u001b[0mmean_absolute_error\u001b[0m\u001b[0;34m(\u001b[0m\u001b[0my_test\u001b[0m\u001b[0;34m,\u001b[0m \u001b[0mpredictions\u001b[0m\u001b[0;34m.\u001b[0m\u001b[0mLGBMRegressor\u001b[0m\u001b[0;34m)\u001b[0m\u001b[0;34m,\u001b[0m\u001b[0;36m2\u001b[0m\u001b[0;34m)\u001b[0m\u001b[0;34m\u001b[0m\u001b[0;34m\u001b[0m\u001b[0m\n\u001b[0m\u001b[1;32m      2\u001b[0m \u001b[0mMSE\u001b[0m \u001b[0;34m=\u001b[0m \u001b[0mround\u001b[0m\u001b[0;34m(\u001b[0m\u001b[0mmean_squared_error\u001b[0m\u001b[0;34m(\u001b[0m\u001b[0my_test\u001b[0m\u001b[0;34m,\u001b[0m \u001b[0mpredictions\u001b[0m\u001b[0;34m.\u001b[0m\u001b[0mLGBMRegressor\u001b[0m\u001b[0;34m)\u001b[0m\u001b[0;34m,\u001b[0m\u001b[0;36m2\u001b[0m\u001b[0;34m)\u001b[0m\u001b[0;34m\u001b[0m\u001b[0;34m\u001b[0m\u001b[0m\n\u001b[1;32m      3\u001b[0m \u001b[0mR2\u001b[0m \u001b[0;34m=\u001b[0m \u001b[0mround\u001b[0m\u001b[0;34m(\u001b[0m\u001b[0mr2_score\u001b[0m\u001b[0;34m(\u001b[0m\u001b[0my_test\u001b[0m\u001b[0;34m,\u001b[0m \u001b[0mpredictions\u001b[0m\u001b[0;34m.\u001b[0m\u001b[0mLGBMRegressor\u001b[0m\u001b[0;34m)\u001b[0m\u001b[0;34m,\u001b[0m\u001b[0;36m2\u001b[0m\u001b[0;34m)\u001b[0m\u001b[0;34m\u001b[0m\u001b[0;34m\u001b[0m\u001b[0m\n\u001b[1;32m      4\u001b[0m \u001b[0mMedian_AE\u001b[0m \u001b[0;34m=\u001b[0m \u001b[0mround\u001b[0m\u001b[0;34m(\u001b[0m\u001b[0mmedian_absolute_error\u001b[0m\u001b[0;34m(\u001b[0m\u001b[0my_test\u001b[0m\u001b[0;34m,\u001b[0m \u001b[0mpredictions\u001b[0m\u001b[0;34m.\u001b[0m\u001b[0mLGBMRegressor\u001b[0m\u001b[0;34m)\u001b[0m\u001b[0;34m,\u001b[0m\u001b[0;36m2\u001b[0m\u001b[0;34m)\u001b[0m\u001b[0;34m\u001b[0m\u001b[0;34m\u001b[0m\u001b[0m\n\u001b[1;32m      5\u001b[0m \u001b[0;34m\u001b[0m\u001b[0m\n",
            "\u001b[0;31mNameError\u001b[0m: name 'predictions' is not defined"
          ]
        }
      ]
    },
    {
      "cell_type": "markdown",
      "source": [
        "**ExtraTreesRegressor y_test from lazypredict**"
      ],
      "metadata": {
        "id": "CrCi7JXsg22q"
      }
    },
    {
      "cell_type": "code",
      "source": [
        "Mean_AE = round(mean_absolute_error(y_test, predictions.ExtraTreesRegressor),2)\n",
        "MSE = round(mean_squared_error(y_test, predictions.ExtraTreesRegressor),2)\n",
        "R2 = round(r2_score(y_test, predictions.ExtraTreesRegressor),2)\n",
        "Median_AE = round(median_absolute_error(y_test, predictions.ExtraTreesRegressor),2)\n",
        "\n",
        "print(pd.DataFrame({\"Mean_AE\":Mean_AE,\"MSE\":MSE,\"R2\":R2,\"Median_AE\":Median_AE},index=[\"results ExtraTreesRegressor\"]))"
      ],
      "metadata": {
        "colab": {
          "base_uri": "https://localhost:8080/",
          "height": 236
        },
        "id": "KAyKpPyaxwt7",
        "outputId": "8e0d7ece-c30f-4022-8431-ce9ab3f2540b"
      },
      "execution_count": null,
      "outputs": [
        {
          "output_type": "error",
          "ename": "NameError",
          "evalue": "ignored",
          "traceback": [
            "\u001b[0;31m---------------------------------------------------------------------------\u001b[0m",
            "\u001b[0;31mNameError\u001b[0m                                 Traceback (most recent call last)",
            "\u001b[0;32m<ipython-input-16-38cf8019ef8a>\u001b[0m in \u001b[0;36m<module>\u001b[0;34m\u001b[0m\n\u001b[0;32m----> 1\u001b[0;31m \u001b[0mMean_AE\u001b[0m \u001b[0;34m=\u001b[0m \u001b[0mround\u001b[0m\u001b[0;34m(\u001b[0m\u001b[0mmean_absolute_error\u001b[0m\u001b[0;34m(\u001b[0m\u001b[0my_test\u001b[0m\u001b[0;34m,\u001b[0m \u001b[0mpredictions\u001b[0m\u001b[0;34m.\u001b[0m\u001b[0mExtraTreesRegressor\u001b[0m\u001b[0;34m)\u001b[0m\u001b[0;34m,\u001b[0m\u001b[0;36m2\u001b[0m\u001b[0;34m)\u001b[0m\u001b[0;34m\u001b[0m\u001b[0;34m\u001b[0m\u001b[0m\n\u001b[0m\u001b[1;32m      2\u001b[0m \u001b[0mMSE\u001b[0m \u001b[0;34m=\u001b[0m \u001b[0mround\u001b[0m\u001b[0;34m(\u001b[0m\u001b[0mmean_squared_error\u001b[0m\u001b[0;34m(\u001b[0m\u001b[0my_test\u001b[0m\u001b[0;34m,\u001b[0m \u001b[0mpredictions\u001b[0m\u001b[0;34m.\u001b[0m\u001b[0mExtraTreesRegressor\u001b[0m\u001b[0;34m)\u001b[0m\u001b[0;34m,\u001b[0m\u001b[0;36m2\u001b[0m\u001b[0;34m)\u001b[0m\u001b[0;34m\u001b[0m\u001b[0;34m\u001b[0m\u001b[0m\n\u001b[1;32m      3\u001b[0m \u001b[0mR2\u001b[0m \u001b[0;34m=\u001b[0m \u001b[0mround\u001b[0m\u001b[0;34m(\u001b[0m\u001b[0mr2_score\u001b[0m\u001b[0;34m(\u001b[0m\u001b[0my_test\u001b[0m\u001b[0;34m,\u001b[0m \u001b[0mpredictions\u001b[0m\u001b[0;34m.\u001b[0m\u001b[0mExtraTreesRegressor\u001b[0m\u001b[0;34m)\u001b[0m\u001b[0;34m,\u001b[0m\u001b[0;36m2\u001b[0m\u001b[0;34m)\u001b[0m\u001b[0;34m\u001b[0m\u001b[0;34m\u001b[0m\u001b[0m\n\u001b[1;32m      4\u001b[0m \u001b[0mMedian_AE\u001b[0m \u001b[0;34m=\u001b[0m \u001b[0mround\u001b[0m\u001b[0;34m(\u001b[0m\u001b[0mmedian_absolute_error\u001b[0m\u001b[0;34m(\u001b[0m\u001b[0my_test\u001b[0m\u001b[0;34m,\u001b[0m \u001b[0mpredictions\u001b[0m\u001b[0;34m.\u001b[0m\u001b[0mExtraTreesRegressor\u001b[0m\u001b[0;34m)\u001b[0m\u001b[0;34m,\u001b[0m\u001b[0;36m2\u001b[0m\u001b[0;34m)\u001b[0m\u001b[0;34m\u001b[0m\u001b[0;34m\u001b[0m\u001b[0m\n\u001b[1;32m      5\u001b[0m \u001b[0;34m\u001b[0m\u001b[0m\n",
            "\u001b[0;31mNameError\u001b[0m: name 'predictions' is not defined"
          ]
        }
      ]
    },
    {
      "cell_type": "markdown",
      "source": [
        "**lgbmregressor**"
      ],
      "metadata": {
        "id": "39WWhfb66PSv"
      }
    },
    {
      "cell_type": "code",
      "source": [
        "from lightgbm.sklearn import LGBMRegressor\n",
        "from sklearn.model_selection import train_test_split\n",
        "\n",
        "#random seed 1\n",
        "np.random.seed(1)\n",
        "\n",
        "# X and Y\n",
        "Y = df_all1k.spd_o\n",
        "X = df_all1k.iloc[:,1:]\n",
        "\n",
        "# loop random\n",
        "Median_AE_ml = []\n",
        "Mean_AE_ml =[]\n",
        "MSE_ml = []\n",
        "R2_ml = []\n",
        "\n",
        "#20 samples to test algorithm\n",
        "for t in range (0,20):\n",
        "  #split variables\n",
        "  X_train, X_test, y_train, y_test = train_test_split(X,Y, test_size=0.15, )\n",
        "\n",
        "  #machine learning model\n",
        "  ml_model = LGBMRegressor().fit(X_train,y_train)\n",
        "  y_pred = ml_model.predict(X_test)\n",
        "  \n",
        "  #Score calculation\n",
        "  Mean_AE_ml.append(round(mean_absolute_error(y_test, y_pred),2))\n",
        "  Median_AE_ml.append(round(median_absolute_error(y_test, y_pred),2))\n",
        "  MSE_ml.append (round(mean_squared_error(y_test, y_pred),2))\n",
        "  R2_ml.append(round(r2_score(y_test, y_pred),2))\n",
        "\n",
        "print(pd.DataFrame({\"Median_AE\":Median_AE_ml,\" Mean_AE\":Mean_AE_ml,\"MSE\":MSE_ml,\"R2\":R2_ml}))  \n",
        "\n",
        "#show results sample 200\n",
        "result = pd.DataFrame({\"y_pred\":y_pred,\"y_test\":y_test.values})\n",
        "\n",
        "#random seed 1\n",
        "np.random.seed(1)\n",
        "\n",
        "sns.set_theme(style=\"darkgrid\")\n",
        "g = sns.jointplot(x=\"y_pred\", y=\"y_test\", data=result.sample(200),\n",
        "                  kind=\"reg\", truncate=False,\n",
        "                  xlim=(0, 20), ylim=(0, 20),\n",
        "                  color=\"m\", height=7)"
      ],
      "metadata": {
        "colab": {
          "base_uri": "https://localhost:8080/",
          "height": 873
        },
        "id": "zXE-f4RyyM0V",
        "outputId": "8de4b837-f264-4939-8e16-dc44b2541116"
      },
      "execution_count": 10,
      "outputs": [
        {
          "output_type": "stream",
          "name": "stdout",
          "text": [
            "    Median_AE   Mean_AE   MSE    R2\n",
            "0        0.77      1.01  1.80  0.73\n",
            "1        0.77      1.00  1.79  0.73\n",
            "2        0.75      1.00  1.79  0.71\n",
            "3        0.75      0.99  1.75  0.74\n",
            "4        0.75      1.00  1.88  0.73\n",
            "5        0.74      1.00  1.85  0.73\n",
            "6        0.78      1.02  1.94  0.72\n",
            "7        0.75      0.98  1.77  0.73\n",
            "8        0.74      0.99  1.80  0.73\n",
            "9        0.71      0.97  1.73  0.73\n",
            "10       0.76      1.00  1.84  0.73\n",
            "11       0.74      0.99  1.71  0.74\n",
            "12       0.78      1.00  1.82  0.73\n",
            "13       0.77      0.96  1.59  0.78\n",
            "14       0.79      1.05  2.00  0.71\n",
            "15       0.74      1.01  1.92  0.74\n",
            "16       0.73      0.99  1.81  0.73\n",
            "17       0.75      1.01  1.85  0.72\n",
            "18       0.71      0.97  1.74  0.74\n",
            "19       0.76      1.00  1.74  0.74\n"
          ]
        },
        {
          "output_type": "display_data",
          "data": {
            "text/plain": [
              "<Figure size 504x504 with 3 Axes>"
            ],
            "image/png": "[encoded data removed]"
          },
          "metadata": {}
        }
      ]
    },
    {
      "cell_type": "markdown",
      "source": [
        "**T test (1sample) compare machine learning mean absolute error in a sample (n=20) versus meteorological model mean absolute error at point 0 (1.9) and at point 1 (1.9). the alternative hypothesis is: the mean of the underlying distribution of the sample is less than the given population mean (popmean). Significance level (alpha) = 0.01**"
      ],
      "metadata": {
        "id": "xjYiHhOg2IAD"
      }
    },
    {
      "cell_type": "code",
      "source": [
        "from scipy import stats\n",
        "\n",
        "alpha = 0.01\n",
        "sta0, p_value0 = stats.ttest_1samp(Median_AE_ml, popmean=1.26, alternative=\"less\")\n",
        "sta1, p_value1 = stats.ttest_1samp(Median_AE_ml, popmean=1.32, alternative=\"less\")\n",
        "\n",
        "print(\"\\nalpha: \",alpha)\n",
        "\n",
        "print(\"\\nMedian Absolute error list from machine learning test:\",Median_AE_ml)\n",
        "print(\"\\n**** Point 0 ****\")\n",
        "print(\"\\np_value point 0:\",p_value0)\n",
        "if p_value0 < alpha:    \n",
        "    print(\"\\nwe are rejecting null hypothesis  H0: Median Absolute Error machine learning = Median Absolute Error meteorological model point 0\")\n",
        "    print(\"\\nwe are accepting alternative hypothesis: Median Absolute Error machine learning is less than Median Absolute Error meteorological point 0\")\n",
        "else:\n",
        "    print(\"\\nwe are accepting null hypothesis:  H0:  Median Absolute Error machine learning = Median Absolute Error meteorological model point 0 \")\n",
        "\n",
        "print(\"\\n**** Point 1 ****\")\n",
        "print(\"\\np value point 1:\",p_value1 )\n",
        "if p_value1 < alpha:    \n",
        "    print(\"\\nwe are rejecting null hypothesis  H0: Median Absolute Error machine learning = Median Absolute Error meteorological model point 1\")\n",
        "    print(\"\\nwe are accepting alternative hypothesis: Median Absolute Error machine learning is less than Median Absolute Error meteorological point 1\")\n",
        "else:\n",
        "    print(\"\\nwe are accepting null hypothesis:  H0  Median Absolute Error machine learning = Median Absolute Error meteorological model point 1\") "
      ],
      "metadata": {
        "colab": {
          "base_uri": "https://localhost:8080/"
        },
        "id": "fYOgh1LM2-tp",
        "outputId": "c62af0bd-aa39-4ce6-eea9-b9febda4c93e"
      },
      "execution_count": 11,
      "outputs": [
        {
          "output_type": "stream",
          "name": "stdout",
          "text": [
            "\n",
            "alpha:  0.01\n",
            "\n",
            "Median Absolute error list from machine learning test: [0.77, 0.77, 0.75, 0.75, 0.75, 0.74, 0.78, 0.75, 0.74, 0.71, 0.76, 0.74, 0.78, 0.77, 0.79, 0.74, 0.73, 0.75, 0.71, 0.76]\n",
            "\n",
            "**** Point 0 ****\n",
            "\n",
            "p_value point 0: 4.101092537749376e-28\n",
            "\n",
            "we are rejecting null hypothesis  H0: Median Absolute Error machine learning = Median Absolute Error meteorological model point 0\n",
            "\n",
            "we are accepting alternative hypothesis: Median Absolute Error machine learning is less than Median Absolute Error meteorological point 0\n",
            "\n",
            "**** Point 1 ****\n",
            "\n",
            "p value point 1: 4.9319443013551593e-29\n",
            "\n",
            "we are rejecting null hypothesis  H0: Median Absolute Error machine learning = Median Absolute Error meteorological model point 1\n",
            "\n",
            "we are accepting alternative hypothesis: Median Absolute Error machine learning is less than Median Absolute Error meteorological point 1\n"
          ]
        }
      ]
    },
    {
      "cell_type": "markdown",
      "source": [
        "**Add time variables**"
      ],
      "metadata": {
        "id": "ORA2rJTa3-PL"
      }
    },
    {
      "cell_type": "code",
      "source": [
        "df_all1k[\"hour\"] = df_all1k.index.hour\n",
        "df_all1k[\"month\"] = df_all1k.index.month\n",
        "df_all1k[\"dayofyear\"] = df_all1k.index.dayofyear\n",
        "df_all1k[\"weekofyear\"] = df_all1k.index.isocalendar().week.astype(int)"
      ],
      "metadata": {
        "id": "53SehPaetF9j"
      },
      "execution_count": 12,
      "outputs": []
    },
    {
      "cell_type": "markdown",
      "source": [
        "**Machine learning with time variables**"
      ],
      "metadata": {
        "id": "LDQO_wea4Q0U"
      }
    },
    {
      "cell_type": "markdown",
      "source": [
        "**X variables**"
      ],
      "metadata": {
        "id": "TUgWs3j34YjV"
      }
    },
    {
      "cell_type": "code",
      "source": [
        "df_all1k.iloc[:,1:].columns"
      ],
      "metadata": {
        "colab": {
          "base_uri": "https://localhost:8080/"
        },
        "id": "8ilHsQzH4WlP",
        "outputId": "0055c036-e698-4256-d1a1-b52a0be75f57"
      },
      "execution_count": 13,
      "outputs": [
        {
          "output_type": "execute_result",
          "data": {
            "text/plain": [
              "Index(['dir0', 'snow_prec0', 'isocero0', 'mod0', 'racha_u0', 'racha_v0',\n",
              "       'mslp0', 'temp0', 'rh0', 'visibility0', 'lhevapac0', 'lhsublac0',\n",
              "       'lwflx0', 'prec0', 'swflx0', 'shflxac0', 'cape0', 'cin0', 'cfh0',\n",
              "       'cfl0', 'cfm0', 'cft0', 'HGT5000', 'HGT8500', 'T5000', 'T8500', 'dir1',\n",
              "       'snow_prec1', 'isocero1', 'mod1', 'racha_u1', 'racha_v1', 'mslp1',\n",
              "       'temp1', 'rh1', 'visibility1', 'lhevapac1', 'lhsublac1', 'lwflx1',\n",
              "       'prec1', 'swflx1', 'shflxac1', 'cape1', 'cin1', 'cfh1', 'cfl1', 'cfm1',\n",
              "       'cft1', 'HGT5001', 'HGT8501', 'T5001', 'T8501', 'hour', 'month',\n",
              "       'dayofyear', 'weekofyear'],\n",
              "      dtype='object')"
            ]
          },
          "metadata": {},
          "execution_count": 13
        }
      ]
    },
    {
      "cell_type": "code",
      "source": [
        "#random seed 1\n",
        "np.random.seed(1)\n",
        "\n",
        "# X and Y\n",
        "Y = df_all1k.spd_o\n",
        "X = df_all1k.iloc[:,1:]\n",
        "\n",
        "# loop random\n",
        "Median_AE_ml_t = []\n",
        "Mean_AE_ml_t =[]\n",
        "MSE_ml_t = []\n",
        "R2_ml_t = []\n",
        "\n",
        "#20 samples to test algorithm\n",
        "for t in range (0,20):\n",
        "  #split variables\n",
        "  X_train, X_test, y_train, y_test = train_test_split(X,Y, test_size=0.15, )\n",
        "\n",
        "  #machine learning model\n",
        "  ml_model = LGBMRegressor().fit(X_train,y_train)\n",
        "  y_pred = ml_model.predict(X_test)\n",
        "  \n",
        "  #Score calculation\n",
        "  Mean_AE_ml_t.append(round(mean_absolute_error(y_test, y_pred),2))\n",
        "  Median_AE_ml_t.append(round(median_absolute_error(y_test, y_pred),2))\n",
        "  MSE_ml_t.append (round(mean_squared_error(y_test, y_pred),2))\n",
        "  R2_ml_t.append(round(r2_score(y_test, y_pred),2))\n",
        "  \n",
        "  \n",
        "print(pd.DataFrame({\"Median_AE\":Median_AE_ml_t,\" Mean_AE\":Mean_AE_ml_t,\"MSE\":MSE_ml_t,\"R2\":R2_ml_t}))"
      ],
      "metadata": {
        "colab": {
          "base_uri": "https://localhost:8080/"
        },
        "id": "aFEZMmcK4Fpj",
        "outputId": "c42659aa-c697-4d60-b385-659738d4e988"
      },
      "execution_count": 14,
      "outputs": [
        {
          "output_type": "stream",
          "name": "stdout",
          "text": [
            "    Median_AE   Mean_AE   MSE    R2\n",
            "0        0.76      0.99  1.76  0.73\n",
            "1        0.77      0.99  1.72  0.74\n",
            "2        0.77      0.99  1.76  0.72\n",
            "3        0.74      0.97  1.71  0.75\n",
            "4        0.75      1.00  1.83  0.73\n",
            "5        0.73      0.99  1.81  0.74\n",
            "6        0.75      1.00  1.88  0.73\n",
            "7        0.73      0.96  1.70  0.74\n",
            "8        0.75      0.99  1.80  0.73\n",
            "9        0.71      0.95  1.66  0.74\n",
            "10       0.74      0.98  1.79  0.73\n",
            "11       0.73      0.97  1.67  0.74\n",
            "12       0.76      0.98  1.75  0.75\n",
            "13       0.74      0.94  1.54  0.78\n",
            "14       0.77      1.03  1.91  0.72\n",
            "15       0.73      1.00  1.88  0.74\n",
            "16       0.74      0.98  1.80  0.73\n",
            "17       0.74      0.99  1.79  0.73\n",
            "18       0.70      0.96  1.66  0.75\n",
            "19       0.77      0.99  1.72  0.75\n"
          ]
        }
      ]
    },
    {
      "cell_type": "markdown",
      "source": [
        "**T test two related samples. This is a test for the null hypothesis that two related samples have identical Median Absolute Error. Alternative hypothesis the Median Absolute Error of the distribution underlying the sample with time variables is less than the Median Absolute Error of the distribution underlying the sample without time variables. Significance level (alpha) = 0.01**"
      ],
      "metadata": {
        "id": "Mrtdk4Nz5ER3"
      }
    },
    {
      "cell_type": "code",
      "source": [
        "from scipy import stats\n",
        "\n",
        "alpha = 0.01\n",
        "sta, p_value = stats.ttest_rel(Median_AE_ml_t, Median_AE_ml, alternative=\"less\")\n",
        "\n",
        "print(\"\\nMedian absolute error without time variables:\", Median_AE_ml)\n",
        "print(\"\\nMedian absolute error with time variables:\", Median_AE_ml_t)\n",
        "\n",
        "print(\"\\nalpha: \",alpha)\n",
        "\n",
        "print(\"\\np_value point: \",p_value)\n",
        "if p_value < alpha:    \n",
        "    print(\"\\nwe are rejecting null hypothesis  H0: Median absolute error machine learning without time variables = Median absolute error machine learning with time variables\")\n",
        "    print(\"\\nwe are accepting alternative hypothesis: Median absolute error of the sample with time variables inputs is less than the Median absolute error of the sample without time variables inputs\")\n",
        "else:\n",
        "    print(\"\\nwe are accepting null hypothesis:  H0: Median absolute error machine learning without time variables = Median absolute error machine learning with time variables\")"
      ],
      "metadata": {
        "colab": {
          "base_uri": "https://localhost:8080/"
        },
        "id": "ySufjo565DqM",
        "outputId": "f46ae16f-cc9f-4d49-a81a-14690c08e743"
      },
      "execution_count": 15,
      "outputs": [
        {
          "output_type": "stream",
          "name": "stdout",
          "text": [
            "\n",
            "Median absolute error without time variables: [0.77, 0.77, 0.75, 0.75, 0.75, 0.74, 0.78, 0.75, 0.74, 0.71, 0.76, 0.74, 0.78, 0.77, 0.79, 0.74, 0.73, 0.75, 0.71, 0.76]\n",
            "\n",
            "Median absolute error with time variables: [0.76, 0.77, 0.77, 0.74, 0.75, 0.73, 0.75, 0.73, 0.75, 0.71, 0.74, 0.73, 0.76, 0.74, 0.77, 0.73, 0.74, 0.74, 0.7, 0.77]\n",
            "\n",
            "alpha:  0.01\n",
            "\n",
            "p_value point:  0.008272750658930853\n",
            "\n",
            "we are rejecting null hypothesis  H0: Median absolute error machine learning without time variables = Median absolute error machine learning with time variables\n",
            "\n",
            "we are accepting alternative hypothesis: Median absolute error of the sample with time variables inputs is less than the Median absolute error of the sample without time variables inputs\n"
          ]
        }
      ]
    },
    {
      "cell_type": "code",
      "source": [
        "feature_importances = ml_model.feature_importances_\n",
        "total_sum = sum(feature_importances)\n",
        "feature_importances_perc = [(importance/total_sum)*100 for importance in feature_importances]\n",
        "# Print the feature importances as a percentage of total feature importance\n",
        "\n",
        "for name, importance in zip(X.columns, feature_importances_perc):\n",
        "    print(f\"{name}: {importance:.1f}%\")\n",
        "     "
      ],
      "metadata": {
        "colab": {
          "base_uri": "https://localhost:8080/"
        },
        "id": "qpE_hu_ail4x",
        "outputId": "88a6337d-92c5-4cb7-8ad2-eae4169a4e79"
      },
      "execution_count": 16,
      "outputs": [
        {
          "output_type": "stream",
          "name": "stdout",
          "text": [
            "dir0: 1.9%\n",
            "snow_prec0: 0.0%\n",
            "isocero0: 2.5%\n",
            "mod0: 3.3%\n",
            "racha_u0: 3.1%\n",
            "racha_v0: 3.8%\n",
            "mslp0: 3.1%\n",
            "temp0: 1.6%\n",
            "rh0: 0.6%\n",
            "visibility0: 1.4%\n",
            "lhevapac0: 2.0%\n",
            "lhsublac0: 2.3%\n",
            "lwflx0: 1.5%\n",
            "prec0: 2.3%\n",
            "swflx0: 1.5%\n",
            "shflxac0: 3.7%\n",
            "cape0: 1.5%\n",
            "cin0: 2.0%\n",
            "cfh0: 0.7%\n",
            "cfl0: 0.6%\n",
            "cfm0: 0.7%\n",
            "cft0: 0.7%\n",
            "HGT5000: 2.0%\n",
            "HGT8500: 1.8%\n",
            "T5000: 2.2%\n",
            "T8500: 2.4%\n",
            "dir1: 1.9%\n",
            "snow_prec1: 0.0%\n",
            "isocero1: 2.1%\n",
            "mod1: 4.8%\n",
            "racha_u1: 2.3%\n",
            "racha_v1: 1.8%\n",
            "mslp1: 1.9%\n",
            "temp1: 2.0%\n",
            "rh1: 1.1%\n",
            "visibility1: 1.2%\n",
            "lhevapac1: 3.1%\n",
            "lhsublac1: 1.2%\n",
            "lwflx1: 1.6%\n",
            "prec1: 1.2%\n",
            "swflx1: 0.7%\n",
            "shflxac1: 3.6%\n",
            "cape1: 1.6%\n",
            "cin1: 1.7%\n",
            "cfh1: 0.9%\n",
            "cfl1: 0.7%\n",
            "cfm1: 1.0%\n",
            "cft1: 0.6%\n",
            "HGT5001: 1.0%\n",
            "HGT8501: 0.5%\n",
            "T5001: 1.3%\n",
            "T8501: 2.2%\n",
            "hour: 3.2%\n",
            "month: 0.5%\n",
            "dayofyear: 4.3%\n",
            "weekofyear: 1.0%\n"
          ]
        }
      ]
    },
    {
      "cell_type": "markdown",
      "source": [
        "**Save algorithm**"
      ],
      "metadata": {
        "id": "LBBrjRMN5vFD"
      }
    },
    {
      "cell_type": "code",
      "source": [
        "import pickle\n",
        "from sklearn.pipeline import Pipeline\n",
        "\n",
        "\n",
        "estimators = [('ml_model', ml_model)]\n",
        "pipe = Pipeline(estimators)\n",
        "print(pipe)\n",
        "al_file={\"x_var\":X.columns,\"coor\":coor,\"pipe\":pipe}\n",
        "pickle.dump(al_file, open(\"spd_LEPP_d0.al\", 'wb'))"
      ],
      "metadata": {
        "colab": {
          "base_uri": "https://localhost:8080/"
        },
        "id": "ZXM71i31__XS",
        "outputId": "231a5813-a55d-43c5-d89b-a7ce7cbcdc6d"
      },
      "execution_count": null,
      "outputs": [
        {
          "output_type": "stream",
          "name": "stdout",
          "text": [
            "Pipeline(steps=[('ml_model', LGBMRegressor())])\n"
          ]
        }
      ]
    }
  ]
}